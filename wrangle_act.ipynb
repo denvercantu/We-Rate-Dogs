{
 "cells": [
  {
   "cell_type": "code",
   "execution_count": 1242,
   "id": "4a2d638b",
   "metadata": {},
   "outputs": [],
   "source": [
    "import json as js\n",
    "import pandas as pd\n",
    "import numpy as np\n",
    "import missingno as msno\n",
    "import requests\n",
    "import matplotlib.pyplot as plt\n",
    "import matplotlib.image as mpimg\n",
    "import pandas_profiling as pp\n",
    "import seaborn as sns\n",
    "%matplotlib inline\n",
    "pd.options.mode.chained_assignment = None"
   ]
  },
  {
   "cell_type": "markdown",
   "id": "7f326cc2",
   "metadata": {},
   "source": [
    "# WeRateDogs Twitter Wrangling Project\n",
    "\n",
    "Jump to contents:\n",
    "\n",
    "[Step 1: Gather Data](#cell2)\n",
    "\n",
    "[Step 2: Assessing Data](#cell3)\n",
    "\n",
    "[Step 3: Identify Quality Issues](#cell4)\n",
    "\n",
    "[Step 4: Clean and Tidy Data](#cell5)\n",
    "\n",
    "[Step 5: Analyze Data with Visuals](#cell6)\n",
    "\n"
   ]
  },
  {
   "cell_type": "markdown",
   "id": "7077cbea",
   "metadata": {},
   "source": [
    "# 1. Gather Data\n",
    "<a id=\"cell2\"></a>"
   ]
  },
  {
   "cell_type": "code",
   "execution_count": 1243,
   "id": "ca9070fd",
   "metadata": {},
   "outputs": [
    {
     "data": {
      "text/html": [
       "<div>\n",
       "<style scoped>\n",
       "    .dataframe tbody tr th:only-of-type {\n",
       "        vertical-align: middle;\n",
       "    }\n",
       "\n",
       "    .dataframe tbody tr th {\n",
       "        vertical-align: top;\n",
       "    }\n",
       "\n",
       "    .dataframe thead th {\n",
       "        text-align: right;\n",
       "    }\n",
       "</style>\n",
       "<table border=\"1\" class=\"dataframe\">\n",
       "  <thead>\n",
       "    <tr style=\"text-align: right;\">\n",
       "      <th></th>\n",
       "      <th>tweet_id</th>\n",
       "      <th>in_reply_to_status_id</th>\n",
       "      <th>in_reply_to_user_id</th>\n",
       "      <th>timestamp</th>\n",
       "      <th>source</th>\n",
       "      <th>text</th>\n",
       "      <th>retweeted_status_id</th>\n",
       "      <th>retweeted_status_user_id</th>\n",
       "      <th>retweeted_status_timestamp</th>\n",
       "      <th>expanded_urls</th>\n",
       "      <th>rating_numerator</th>\n",
       "      <th>rating_denominator</th>\n",
       "      <th>name</th>\n",
       "      <th>doggo</th>\n",
       "      <th>floofer</th>\n",
       "      <th>pupper</th>\n",
       "      <th>puppo</th>\n",
       "    </tr>\n",
       "  </thead>\n",
       "  <tbody>\n",
       "    <tr>\n",
       "      <th>0</th>\n",
       "      <td>892420643555336193</td>\n",
       "      <td>NaN</td>\n",
       "      <td>NaN</td>\n",
       "      <td>2017-08-01 16:23:56 +0000</td>\n",
       "      <td>&lt;a href=\"http://twitter.com/download/iphone\" r...</td>\n",
       "      <td>This is Phineas. He's a mystical boy. Only eve...</td>\n",
       "      <td>NaN</td>\n",
       "      <td>NaN</td>\n",
       "      <td>NaN</td>\n",
       "      <td>https://twitter.com/dog_rates/status/892420643...</td>\n",
       "      <td>13</td>\n",
       "      <td>10</td>\n",
       "      <td>Phineas</td>\n",
       "      <td>None</td>\n",
       "      <td>None</td>\n",
       "      <td>None</td>\n",
       "      <td>None</td>\n",
       "    </tr>\n",
       "    <tr>\n",
       "      <th>1</th>\n",
       "      <td>892177421306343426</td>\n",
       "      <td>NaN</td>\n",
       "      <td>NaN</td>\n",
       "      <td>2017-08-01 00:17:27 +0000</td>\n",
       "      <td>&lt;a href=\"http://twitter.com/download/iphone\" r...</td>\n",
       "      <td>This is Tilly. She's just checking pup on you....</td>\n",
       "      <td>NaN</td>\n",
       "      <td>NaN</td>\n",
       "      <td>NaN</td>\n",
       "      <td>https://twitter.com/dog_rates/status/892177421...</td>\n",
       "      <td>13</td>\n",
       "      <td>10</td>\n",
       "      <td>Tilly</td>\n",
       "      <td>None</td>\n",
       "      <td>None</td>\n",
       "      <td>None</td>\n",
       "      <td>None</td>\n",
       "    </tr>\n",
       "    <tr>\n",
       "      <th>2</th>\n",
       "      <td>891815181378084864</td>\n",
       "      <td>NaN</td>\n",
       "      <td>NaN</td>\n",
       "      <td>2017-07-31 00:18:03 +0000</td>\n",
       "      <td>&lt;a href=\"http://twitter.com/download/iphone\" r...</td>\n",
       "      <td>This is Archie. He is a rare Norwegian Pouncin...</td>\n",
       "      <td>NaN</td>\n",
       "      <td>NaN</td>\n",
       "      <td>NaN</td>\n",
       "      <td>https://twitter.com/dog_rates/status/891815181...</td>\n",
       "      <td>12</td>\n",
       "      <td>10</td>\n",
       "      <td>Archie</td>\n",
       "      <td>None</td>\n",
       "      <td>None</td>\n",
       "      <td>None</td>\n",
       "      <td>None</td>\n",
       "    </tr>\n",
       "    <tr>\n",
       "      <th>3</th>\n",
       "      <td>891689557279858688</td>\n",
       "      <td>NaN</td>\n",
       "      <td>NaN</td>\n",
       "      <td>2017-07-30 15:58:51 +0000</td>\n",
       "      <td>&lt;a href=\"http://twitter.com/download/iphone\" r...</td>\n",
       "      <td>This is Darla. She commenced a snooze mid meal...</td>\n",
       "      <td>NaN</td>\n",
       "      <td>NaN</td>\n",
       "      <td>NaN</td>\n",
       "      <td>https://twitter.com/dog_rates/status/891689557...</td>\n",
       "      <td>13</td>\n",
       "      <td>10</td>\n",
       "      <td>Darla</td>\n",
       "      <td>None</td>\n",
       "      <td>None</td>\n",
       "      <td>None</td>\n",
       "      <td>None</td>\n",
       "    </tr>\n",
       "    <tr>\n",
       "      <th>4</th>\n",
       "      <td>891327558926688256</td>\n",
       "      <td>NaN</td>\n",
       "      <td>NaN</td>\n",
       "      <td>2017-07-29 16:00:24 +0000</td>\n",
       "      <td>&lt;a href=\"http://twitter.com/download/iphone\" r...</td>\n",
       "      <td>This is Franklin. He would like you to stop ca...</td>\n",
       "      <td>NaN</td>\n",
       "      <td>NaN</td>\n",
       "      <td>NaN</td>\n",
       "      <td>https://twitter.com/dog_rates/status/891327558...</td>\n",
       "      <td>12</td>\n",
       "      <td>10</td>\n",
       "      <td>Franklin</td>\n",
       "      <td>None</td>\n",
       "      <td>None</td>\n",
       "      <td>None</td>\n",
       "      <td>None</td>\n",
       "    </tr>\n",
       "  </tbody>\n",
       "</table>\n",
       "</div>"
      ],
      "text/plain": [
       "             tweet_id  in_reply_to_status_id  in_reply_to_user_id  \\\n",
       "0  892420643555336193                    NaN                  NaN   \n",
       "1  892177421306343426                    NaN                  NaN   \n",
       "2  891815181378084864                    NaN                  NaN   \n",
       "3  891689557279858688                    NaN                  NaN   \n",
       "4  891327558926688256                    NaN                  NaN   \n",
       "\n",
       "                   timestamp  \\\n",
       "0  2017-08-01 16:23:56 +0000   \n",
       "1  2017-08-01 00:17:27 +0000   \n",
       "2  2017-07-31 00:18:03 +0000   \n",
       "3  2017-07-30 15:58:51 +0000   \n",
       "4  2017-07-29 16:00:24 +0000   \n",
       "\n",
       "                                              source  \\\n",
       "0  <a href=\"http://twitter.com/download/iphone\" r...   \n",
       "1  <a href=\"http://twitter.com/download/iphone\" r...   \n",
       "2  <a href=\"http://twitter.com/download/iphone\" r...   \n",
       "3  <a href=\"http://twitter.com/download/iphone\" r...   \n",
       "4  <a href=\"http://twitter.com/download/iphone\" r...   \n",
       "\n",
       "                                                text  retweeted_status_id  \\\n",
       "0  This is Phineas. He's a mystical boy. Only eve...                  NaN   \n",
       "1  This is Tilly. She's just checking pup on you....                  NaN   \n",
       "2  This is Archie. He is a rare Norwegian Pouncin...                  NaN   \n",
       "3  This is Darla. She commenced a snooze mid meal...                  NaN   \n",
       "4  This is Franklin. He would like you to stop ca...                  NaN   \n",
       "\n",
       "   retweeted_status_user_id retweeted_status_timestamp  \\\n",
       "0                       NaN                        NaN   \n",
       "1                       NaN                        NaN   \n",
       "2                       NaN                        NaN   \n",
       "3                       NaN                        NaN   \n",
       "4                       NaN                        NaN   \n",
       "\n",
       "                                       expanded_urls  rating_numerator  \\\n",
       "0  https://twitter.com/dog_rates/status/892420643...                13   \n",
       "1  https://twitter.com/dog_rates/status/892177421...                13   \n",
       "2  https://twitter.com/dog_rates/status/891815181...                12   \n",
       "3  https://twitter.com/dog_rates/status/891689557...                13   \n",
       "4  https://twitter.com/dog_rates/status/891327558...                12   \n",
       "\n",
       "   rating_denominator      name doggo floofer pupper puppo  \n",
       "0                  10   Phineas  None    None   None  None  \n",
       "1                  10     Tilly  None    None   None  None  \n",
       "2                  10    Archie  None    None   None  None  \n",
       "3                  10     Darla  None    None   None  None  \n",
       "4                  10  Franklin  None    None   None  None  "
      ]
     },
     "execution_count": 1243,
     "metadata": {},
     "output_type": "execute_result"
    }
   ],
   "source": [
    "#loading twitter archive\n",
    "twitter_archive = pd.read_csv('twitter-archive-enhanced.csv')\n",
    "twitter_archive.head()"
   ]
  },
  {
   "cell_type": "code",
   "execution_count": 1244,
   "id": "c11e13c4",
   "metadata": {},
   "outputs": [],
   "source": [
    "#loading image prediction\n",
    "url = 'https://d17h27t6h515a5.cloudfront.net/topher/2017/August/599fd2ad_image-predictions/image-predictions.tsv'\n",
    "respon = requests.get(url)\n",
    "with open('image_predictions.tsv', mode='wb') as file:\n",
    "    file.write(respon.content)\n",
    "\n",
    "predictions = pd.read_csv('image_predictions.tsv', sep='\\t')"
   ]
  },
  {
   "cell_type": "code",
   "execution_count": 1245,
   "id": "94adbac0",
   "metadata": {},
   "outputs": [
    {
     "data": {
      "text/html": [
       "<div>\n",
       "<style scoped>\n",
       "    .dataframe tbody tr th:only-of-type {\n",
       "        vertical-align: middle;\n",
       "    }\n",
       "\n",
       "    .dataframe tbody tr th {\n",
       "        vertical-align: top;\n",
       "    }\n",
       "\n",
       "    .dataframe thead th {\n",
       "        text-align: right;\n",
       "    }\n",
       "</style>\n",
       "<table border=\"1\" class=\"dataframe\">\n",
       "  <thead>\n",
       "    <tr style=\"text-align: right;\">\n",
       "      <th></th>\n",
       "      <th>tweet_id</th>\n",
       "      <th>jpg_url</th>\n",
       "      <th>img_num</th>\n",
       "      <th>p1</th>\n",
       "      <th>p1_conf</th>\n",
       "      <th>p1_dog</th>\n",
       "      <th>p2</th>\n",
       "      <th>p2_conf</th>\n",
       "      <th>p2_dog</th>\n",
       "      <th>p3</th>\n",
       "      <th>p3_conf</th>\n",
       "      <th>p3_dog</th>\n",
       "    </tr>\n",
       "  </thead>\n",
       "  <tbody>\n",
       "    <tr>\n",
       "      <th>0</th>\n",
       "      <td>666020888022790149</td>\n",
       "      <td>https://pbs.twimg.com/media/CT4udn0WwAA0aMy.jpg</td>\n",
       "      <td>1</td>\n",
       "      <td>Welsh_springer_spaniel</td>\n",
       "      <td>0.465074</td>\n",
       "      <td>True</td>\n",
       "      <td>collie</td>\n",
       "      <td>0.156665</td>\n",
       "      <td>True</td>\n",
       "      <td>Shetland_sheepdog</td>\n",
       "      <td>0.061428</td>\n",
       "      <td>True</td>\n",
       "    </tr>\n",
       "    <tr>\n",
       "      <th>1</th>\n",
       "      <td>666029285002620928</td>\n",
       "      <td>https://pbs.twimg.com/media/CT42GRgUYAA5iDo.jpg</td>\n",
       "      <td>1</td>\n",
       "      <td>redbone</td>\n",
       "      <td>0.506826</td>\n",
       "      <td>True</td>\n",
       "      <td>miniature_pinscher</td>\n",
       "      <td>0.074192</td>\n",
       "      <td>True</td>\n",
       "      <td>Rhodesian_ridgeback</td>\n",
       "      <td>0.072010</td>\n",
       "      <td>True</td>\n",
       "    </tr>\n",
       "    <tr>\n",
       "      <th>2</th>\n",
       "      <td>666033412701032449</td>\n",
       "      <td>https://pbs.twimg.com/media/CT4521TWwAEvMyu.jpg</td>\n",
       "      <td>1</td>\n",
       "      <td>German_shepherd</td>\n",
       "      <td>0.596461</td>\n",
       "      <td>True</td>\n",
       "      <td>malinois</td>\n",
       "      <td>0.138584</td>\n",
       "      <td>True</td>\n",
       "      <td>bloodhound</td>\n",
       "      <td>0.116197</td>\n",
       "      <td>True</td>\n",
       "    </tr>\n",
       "    <tr>\n",
       "      <th>3</th>\n",
       "      <td>666044226329800704</td>\n",
       "      <td>https://pbs.twimg.com/media/CT5Dr8HUEAA-lEu.jpg</td>\n",
       "      <td>1</td>\n",
       "      <td>Rhodesian_ridgeback</td>\n",
       "      <td>0.408143</td>\n",
       "      <td>True</td>\n",
       "      <td>redbone</td>\n",
       "      <td>0.360687</td>\n",
       "      <td>True</td>\n",
       "      <td>miniature_pinscher</td>\n",
       "      <td>0.222752</td>\n",
       "      <td>True</td>\n",
       "    </tr>\n",
       "    <tr>\n",
       "      <th>4</th>\n",
       "      <td>666049248165822465</td>\n",
       "      <td>https://pbs.twimg.com/media/CT5IQmsXIAAKY4A.jpg</td>\n",
       "      <td>1</td>\n",
       "      <td>miniature_pinscher</td>\n",
       "      <td>0.560311</td>\n",
       "      <td>True</td>\n",
       "      <td>Rottweiler</td>\n",
       "      <td>0.243682</td>\n",
       "      <td>True</td>\n",
       "      <td>Doberman</td>\n",
       "      <td>0.154629</td>\n",
       "      <td>True</td>\n",
       "    </tr>\n",
       "  </tbody>\n",
       "</table>\n",
       "</div>"
      ],
      "text/plain": [
       "             tweet_id                                          jpg_url  \\\n",
       "0  666020888022790149  https://pbs.twimg.com/media/CT4udn0WwAA0aMy.jpg   \n",
       "1  666029285002620928  https://pbs.twimg.com/media/CT42GRgUYAA5iDo.jpg   \n",
       "2  666033412701032449  https://pbs.twimg.com/media/CT4521TWwAEvMyu.jpg   \n",
       "3  666044226329800704  https://pbs.twimg.com/media/CT5Dr8HUEAA-lEu.jpg   \n",
       "4  666049248165822465  https://pbs.twimg.com/media/CT5IQmsXIAAKY4A.jpg   \n",
       "\n",
       "   img_num                      p1   p1_conf  p1_dog                  p2  \\\n",
       "0        1  Welsh_springer_spaniel  0.465074    True              collie   \n",
       "1        1                 redbone  0.506826    True  miniature_pinscher   \n",
       "2        1         German_shepherd  0.596461    True            malinois   \n",
       "3        1     Rhodesian_ridgeback  0.408143    True             redbone   \n",
       "4        1      miniature_pinscher  0.560311    True          Rottweiler   \n",
       "\n",
       "    p2_conf  p2_dog                   p3   p3_conf  p3_dog  \n",
       "0  0.156665    True    Shetland_sheepdog  0.061428    True  \n",
       "1  0.074192    True  Rhodesian_ridgeback  0.072010    True  \n",
       "2  0.138584    True           bloodhound  0.116197    True  \n",
       "3  0.360687    True   miniature_pinscher  0.222752    True  \n",
       "4  0.243682    True             Doberman  0.154629    True  "
      ]
     },
     "execution_count": 1245,
     "metadata": {},
     "output_type": "execute_result"
    }
   ],
   "source": [
    "predictions.head()"
   ]
  },
  {
   "cell_type": "markdown",
   "id": "0532c3da",
   "metadata": {},
   "source": [
    "## Using code provided in twitter_api.py due to mobile verification issues\n",
    "import tweepy\n",
    "from tweepy import OAuthHandler\n",
    "import json\n",
    "from timeit import default_timer as timer\n",
    "\n",
    "## Query Twitter API for each tweet in the Twitter archive and save JSON in a text file\n",
    "## These are hidden to comply with Twitter's API terms and conditions\n",
    "consumer_key = 'HIDDEN'\n",
    "consumer_secret = 'HIDDEN'\n",
    "access_token = 'HIDDEN'\n",
    "access_secret = 'HIDDEN'\n",
    "\n",
    "auth = OAuthHandler(consumer_key, consumer_secret)\n",
    "auth.set_access_token(access_token, access_secret)\n",
    "\n",
    "api = tweepy.API(auth, wait_on_rate_limit=True)\n",
    "\n",
    "## NOTE TO STUDENT WITH MOBILE VERIFICATION ISSUES:\n",
    " df_1 is a DataFrame with the twitter_archive_enhanced.csv file. You may have to\n",
    " change line 17 to match the name of your DataFrame with twitter_archive_enhanced.csv\n",
    " ## NOTE TO REVIEWER: this student had mobile verification issues so the following\n",
    " Twitter API code was sent to this student from a Udacity instructor\n",
    " Tweet IDs for which to gather additional data via Twitter's API\n",
    "tweet_ids = twitter_archive.tweet_id.values\n",
    "len(tweet_ids)\n",
    "\n",
    "## Query Twitter's API for JSON data for each tweet ID in the Twitter archive\n",
    "count = 0\n",
    "fails_dict = {}\n",
    "start = timer()\n",
    "## Save each tweet's returned JSON as a new line in a .txt file\n",
    "with open('tweet_json.txt', 'w') as outfile:\n",
    "    # This loop will likely take 20-30 minutes to run because of Twitter's rate limit\n",
    "    for tweet_id in tweet_ids:\n",
    "        count += 1\n",
    "        print(str(count) + \": \" + str(tweet_id))\n",
    "        try:\n",
    "            tweet = api.get_status(tweet_id, tweet_mode='extended')\n",
    "            print(\"Success\")\n",
    "            json.dump(tweet._json, outfile)\n",
    "            outfile.write('\\n')\n",
    "        except tweepy.TweepError as e:\n",
    "            print(\"Fail\")\n",
    "            fails_dict[tweet_id] = e\n",
    "            pass\n",
    "end = timer()\n",
    "print(end - start)\n",
    "print(fails_dict)"
   ]
  },
  {
   "cell_type": "code",
   "execution_count": 1246,
   "id": "365f0e91",
   "metadata": {},
   "outputs": [],
   "source": [
    "#Each tweet's JSON data should be written to its own line, creating list from tweet_json.txt file\n",
    "tweet_json = []\n",
    "with open('tweet-json.txt') as file:\n",
    "    for lines in file:\n",
    "        line = js.loads(lines)\n",
    "        tweet_json.append({'tweet_id':line['id'],\n",
    "                           'retweet_count':line['retweet_count'],\n",
    "                           'favorite_count':line['favorite_count']})"
   ]
  },
  {
   "cell_type": "code",
   "execution_count": 1247,
   "id": "075a4992",
   "metadata": {},
   "outputs": [
    {
     "data": {
      "text/plain": [
       "{'tweet_id': 892177421306343426,\n",
       " 'retweet_count': 6514,\n",
       " 'favorite_count': 33819}"
      ]
     },
     "execution_count": 1247,
     "metadata": {},
     "output_type": "execute_result"
    }
   ],
   "source": [
    "#printing line of loaded data\n",
    "tweet_json[1]"
   ]
  },
  {
   "cell_type": "code",
   "execution_count": 1248,
   "id": "3d163361",
   "metadata": {},
   "outputs": [
    {
     "data": {
      "text/html": [
       "<div>\n",
       "<style scoped>\n",
       "    .dataframe tbody tr th:only-of-type {\n",
       "        vertical-align: middle;\n",
       "    }\n",
       "\n",
       "    .dataframe tbody tr th {\n",
       "        vertical-align: top;\n",
       "    }\n",
       "\n",
       "    .dataframe thead th {\n",
       "        text-align: right;\n",
       "    }\n",
       "</style>\n",
       "<table border=\"1\" class=\"dataframe\">\n",
       "  <thead>\n",
       "    <tr style=\"text-align: right;\">\n",
       "      <th></th>\n",
       "      <th>tweet_id</th>\n",
       "      <th>retweet_count</th>\n",
       "      <th>favorite_count</th>\n",
       "    </tr>\n",
       "  </thead>\n",
       "  <tbody>\n",
       "    <tr>\n",
       "      <th>0</th>\n",
       "      <td>892420643555336193</td>\n",
       "      <td>8853</td>\n",
       "      <td>39467</td>\n",
       "    </tr>\n",
       "    <tr>\n",
       "      <th>1</th>\n",
       "      <td>892177421306343426</td>\n",
       "      <td>6514</td>\n",
       "      <td>33819</td>\n",
       "    </tr>\n",
       "    <tr>\n",
       "      <th>2</th>\n",
       "      <td>891815181378084864</td>\n",
       "      <td>4328</td>\n",
       "      <td>25461</td>\n",
       "    </tr>\n",
       "    <tr>\n",
       "      <th>3</th>\n",
       "      <td>891689557279858688</td>\n",
       "      <td>8964</td>\n",
       "      <td>42908</td>\n",
       "    </tr>\n",
       "    <tr>\n",
       "      <th>4</th>\n",
       "      <td>891327558926688256</td>\n",
       "      <td>9774</td>\n",
       "      <td>41048</td>\n",
       "    </tr>\n",
       "  </tbody>\n",
       "</table>\n",
       "</div>"
      ],
      "text/plain": [
       "             tweet_id  retweet_count  favorite_count\n",
       "0  892420643555336193           8853           39467\n",
       "1  892177421306343426           6514           33819\n",
       "2  891815181378084864           4328           25461\n",
       "3  891689557279858688           8964           42908\n",
       "4  891327558926688256           9774           41048"
      ]
     },
     "execution_count": 1248,
     "metadata": {},
     "output_type": "execute_result"
    }
   ],
   "source": [
    "#convert tweet_json list to dataframe\n",
    "tweet_json = pd.DataFrame(tweet_json, columns = ['tweet_id', 'retweet_count', 'favorite_count'])\n",
    "tweet_json.head()"
   ]
  },
  {
   "cell_type": "markdown",
   "id": "b94fd8ae",
   "metadata": {},
   "source": [
    "# Step 2: Assessing Data\n",
    "<a id=\"cell3\"></a>"
   ]
  },
  {
   "cell_type": "markdown",
   "id": "604c8af0",
   "metadata": {},
   "source": [
    "## Investigating the Predictions dataframe"
   ]
  },
  {
   "cell_type": "code",
   "execution_count": 1249,
   "id": "2dfaca6b",
   "metadata": {},
   "outputs": [
    {
     "data": {
      "text/html": [
       "<div>\n",
       "<style scoped>\n",
       "    .dataframe tbody tr th:only-of-type {\n",
       "        vertical-align: middle;\n",
       "    }\n",
       "\n",
       "    .dataframe tbody tr th {\n",
       "        vertical-align: top;\n",
       "    }\n",
       "\n",
       "    .dataframe thead th {\n",
       "        text-align: right;\n",
       "    }\n",
       "</style>\n",
       "<table border=\"1\" class=\"dataframe\">\n",
       "  <thead>\n",
       "    <tr style=\"text-align: right;\">\n",
       "      <th></th>\n",
       "      <th>tweet_id</th>\n",
       "      <th>in_reply_to_status_id</th>\n",
       "      <th>in_reply_to_user_id</th>\n",
       "      <th>timestamp</th>\n",
       "      <th>source</th>\n",
       "      <th>text</th>\n",
       "      <th>retweeted_status_id</th>\n",
       "      <th>retweeted_status_user_id</th>\n",
       "      <th>retweeted_status_timestamp</th>\n",
       "      <th>expanded_urls</th>\n",
       "      <th>rating_numerator</th>\n",
       "      <th>rating_denominator</th>\n",
       "      <th>name</th>\n",
       "      <th>doggo</th>\n",
       "      <th>floofer</th>\n",
       "      <th>pupper</th>\n",
       "      <th>puppo</th>\n",
       "    </tr>\n",
       "  </thead>\n",
       "  <tbody>\n",
       "    <tr>\n",
       "      <th>0</th>\n",
       "      <td>892420643555336193</td>\n",
       "      <td>NaN</td>\n",
       "      <td>NaN</td>\n",
       "      <td>2017-08-01 16:23:56 +0000</td>\n",
       "      <td>&lt;a href=\"http://twitter.com/download/iphone\" r...</td>\n",
       "      <td>This is Phineas. He's a mystical boy. Only eve...</td>\n",
       "      <td>NaN</td>\n",
       "      <td>NaN</td>\n",
       "      <td>NaN</td>\n",
       "      <td>https://twitter.com/dog_rates/status/892420643...</td>\n",
       "      <td>13</td>\n",
       "      <td>10</td>\n",
       "      <td>Phineas</td>\n",
       "      <td>None</td>\n",
       "      <td>None</td>\n",
       "      <td>None</td>\n",
       "      <td>None</td>\n",
       "    </tr>\n",
       "    <tr>\n",
       "      <th>1</th>\n",
       "      <td>892177421306343426</td>\n",
       "      <td>NaN</td>\n",
       "      <td>NaN</td>\n",
       "      <td>2017-08-01 00:17:27 +0000</td>\n",
       "      <td>&lt;a href=\"http://twitter.com/download/iphone\" r...</td>\n",
       "      <td>This is Tilly. She's just checking pup on you....</td>\n",
       "      <td>NaN</td>\n",
       "      <td>NaN</td>\n",
       "      <td>NaN</td>\n",
       "      <td>https://twitter.com/dog_rates/status/892177421...</td>\n",
       "      <td>13</td>\n",
       "      <td>10</td>\n",
       "      <td>Tilly</td>\n",
       "      <td>None</td>\n",
       "      <td>None</td>\n",
       "      <td>None</td>\n",
       "      <td>None</td>\n",
       "    </tr>\n",
       "    <tr>\n",
       "      <th>2</th>\n",
       "      <td>891815181378084864</td>\n",
       "      <td>NaN</td>\n",
       "      <td>NaN</td>\n",
       "      <td>2017-07-31 00:18:03 +0000</td>\n",
       "      <td>&lt;a href=\"http://twitter.com/download/iphone\" r...</td>\n",
       "      <td>This is Archie. He is a rare Norwegian Pouncin...</td>\n",
       "      <td>NaN</td>\n",
       "      <td>NaN</td>\n",
       "      <td>NaN</td>\n",
       "      <td>https://twitter.com/dog_rates/status/891815181...</td>\n",
       "      <td>12</td>\n",
       "      <td>10</td>\n",
       "      <td>Archie</td>\n",
       "      <td>None</td>\n",
       "      <td>None</td>\n",
       "      <td>None</td>\n",
       "      <td>None</td>\n",
       "    </tr>\n",
       "    <tr>\n",
       "      <th>3</th>\n",
       "      <td>891689557279858688</td>\n",
       "      <td>NaN</td>\n",
       "      <td>NaN</td>\n",
       "      <td>2017-07-30 15:58:51 +0000</td>\n",
       "      <td>&lt;a href=\"http://twitter.com/download/iphone\" r...</td>\n",
       "      <td>This is Darla. She commenced a snooze mid meal...</td>\n",
       "      <td>NaN</td>\n",
       "      <td>NaN</td>\n",
       "      <td>NaN</td>\n",
       "      <td>https://twitter.com/dog_rates/status/891689557...</td>\n",
       "      <td>13</td>\n",
       "      <td>10</td>\n",
       "      <td>Darla</td>\n",
       "      <td>None</td>\n",
       "      <td>None</td>\n",
       "      <td>None</td>\n",
       "      <td>None</td>\n",
       "    </tr>\n",
       "    <tr>\n",
       "      <th>4</th>\n",
       "      <td>891327558926688256</td>\n",
       "      <td>NaN</td>\n",
       "      <td>NaN</td>\n",
       "      <td>2017-07-29 16:00:24 +0000</td>\n",
       "      <td>&lt;a href=\"http://twitter.com/download/iphone\" r...</td>\n",
       "      <td>This is Franklin. He would like you to stop ca...</td>\n",
       "      <td>NaN</td>\n",
       "      <td>NaN</td>\n",
       "      <td>NaN</td>\n",
       "      <td>https://twitter.com/dog_rates/status/891327558...</td>\n",
       "      <td>12</td>\n",
       "      <td>10</td>\n",
       "      <td>Franklin</td>\n",
       "      <td>None</td>\n",
       "      <td>None</td>\n",
       "      <td>None</td>\n",
       "      <td>None</td>\n",
       "    </tr>\n",
       "    <tr>\n",
       "      <th>...</th>\n",
       "      <td>...</td>\n",
       "      <td>...</td>\n",
       "      <td>...</td>\n",
       "      <td>...</td>\n",
       "      <td>...</td>\n",
       "      <td>...</td>\n",
       "      <td>...</td>\n",
       "      <td>...</td>\n",
       "      <td>...</td>\n",
       "      <td>...</td>\n",
       "      <td>...</td>\n",
       "      <td>...</td>\n",
       "      <td>...</td>\n",
       "      <td>...</td>\n",
       "      <td>...</td>\n",
       "      <td>...</td>\n",
       "      <td>...</td>\n",
       "    </tr>\n",
       "    <tr>\n",
       "      <th>2351</th>\n",
       "      <td>666049248165822465</td>\n",
       "      <td>NaN</td>\n",
       "      <td>NaN</td>\n",
       "      <td>2015-11-16 00:24:50 +0000</td>\n",
       "      <td>&lt;a href=\"http://twitter.com/download/iphone\" r...</td>\n",
       "      <td>Here we have a 1949 1st generation vulpix. Enj...</td>\n",
       "      <td>NaN</td>\n",
       "      <td>NaN</td>\n",
       "      <td>NaN</td>\n",
       "      <td>https://twitter.com/dog_rates/status/666049248...</td>\n",
       "      <td>5</td>\n",
       "      <td>10</td>\n",
       "      <td>None</td>\n",
       "      <td>None</td>\n",
       "      <td>None</td>\n",
       "      <td>None</td>\n",
       "      <td>None</td>\n",
       "    </tr>\n",
       "    <tr>\n",
       "      <th>2352</th>\n",
       "      <td>666044226329800704</td>\n",
       "      <td>NaN</td>\n",
       "      <td>NaN</td>\n",
       "      <td>2015-11-16 00:04:52 +0000</td>\n",
       "      <td>&lt;a href=\"http://twitter.com/download/iphone\" r...</td>\n",
       "      <td>This is a purebred Piers Morgan. Loves to Netf...</td>\n",
       "      <td>NaN</td>\n",
       "      <td>NaN</td>\n",
       "      <td>NaN</td>\n",
       "      <td>https://twitter.com/dog_rates/status/666044226...</td>\n",
       "      <td>6</td>\n",
       "      <td>10</td>\n",
       "      <td>a</td>\n",
       "      <td>None</td>\n",
       "      <td>None</td>\n",
       "      <td>None</td>\n",
       "      <td>None</td>\n",
       "    </tr>\n",
       "    <tr>\n",
       "      <th>2353</th>\n",
       "      <td>666033412701032449</td>\n",
       "      <td>NaN</td>\n",
       "      <td>NaN</td>\n",
       "      <td>2015-11-15 23:21:54 +0000</td>\n",
       "      <td>&lt;a href=\"http://twitter.com/download/iphone\" r...</td>\n",
       "      <td>Here is a very happy pup. Big fan of well-main...</td>\n",
       "      <td>NaN</td>\n",
       "      <td>NaN</td>\n",
       "      <td>NaN</td>\n",
       "      <td>https://twitter.com/dog_rates/status/666033412...</td>\n",
       "      <td>9</td>\n",
       "      <td>10</td>\n",
       "      <td>a</td>\n",
       "      <td>None</td>\n",
       "      <td>None</td>\n",
       "      <td>None</td>\n",
       "      <td>None</td>\n",
       "    </tr>\n",
       "    <tr>\n",
       "      <th>2354</th>\n",
       "      <td>666029285002620928</td>\n",
       "      <td>NaN</td>\n",
       "      <td>NaN</td>\n",
       "      <td>2015-11-15 23:05:30 +0000</td>\n",
       "      <td>&lt;a href=\"http://twitter.com/download/iphone\" r...</td>\n",
       "      <td>This is a western brown Mitsubishi terrier. Up...</td>\n",
       "      <td>NaN</td>\n",
       "      <td>NaN</td>\n",
       "      <td>NaN</td>\n",
       "      <td>https://twitter.com/dog_rates/status/666029285...</td>\n",
       "      <td>7</td>\n",
       "      <td>10</td>\n",
       "      <td>a</td>\n",
       "      <td>None</td>\n",
       "      <td>None</td>\n",
       "      <td>None</td>\n",
       "      <td>None</td>\n",
       "    </tr>\n",
       "    <tr>\n",
       "      <th>2355</th>\n",
       "      <td>666020888022790149</td>\n",
       "      <td>NaN</td>\n",
       "      <td>NaN</td>\n",
       "      <td>2015-11-15 22:32:08 +0000</td>\n",
       "      <td>&lt;a href=\"http://twitter.com/download/iphone\" r...</td>\n",
       "      <td>Here we have a Japanese Irish Setter. Lost eye...</td>\n",
       "      <td>NaN</td>\n",
       "      <td>NaN</td>\n",
       "      <td>NaN</td>\n",
       "      <td>https://twitter.com/dog_rates/status/666020888...</td>\n",
       "      <td>8</td>\n",
       "      <td>10</td>\n",
       "      <td>None</td>\n",
       "      <td>None</td>\n",
       "      <td>None</td>\n",
       "      <td>None</td>\n",
       "      <td>None</td>\n",
       "    </tr>\n",
       "  </tbody>\n",
       "</table>\n",
       "<p>2356 rows × 17 columns</p>\n",
       "</div>"
      ],
      "text/plain": [
       "                tweet_id  in_reply_to_status_id  in_reply_to_user_id  \\\n",
       "0     892420643555336193                    NaN                  NaN   \n",
       "1     892177421306343426                    NaN                  NaN   \n",
       "2     891815181378084864                    NaN                  NaN   \n",
       "3     891689557279858688                    NaN                  NaN   \n",
       "4     891327558926688256                    NaN                  NaN   \n",
       "...                  ...                    ...                  ...   \n",
       "2351  666049248165822465                    NaN                  NaN   \n",
       "2352  666044226329800704                    NaN                  NaN   \n",
       "2353  666033412701032449                    NaN                  NaN   \n",
       "2354  666029285002620928                    NaN                  NaN   \n",
       "2355  666020888022790149                    NaN                  NaN   \n",
       "\n",
       "                      timestamp  \\\n",
       "0     2017-08-01 16:23:56 +0000   \n",
       "1     2017-08-01 00:17:27 +0000   \n",
       "2     2017-07-31 00:18:03 +0000   \n",
       "3     2017-07-30 15:58:51 +0000   \n",
       "4     2017-07-29 16:00:24 +0000   \n",
       "...                         ...   \n",
       "2351  2015-11-16 00:24:50 +0000   \n",
       "2352  2015-11-16 00:04:52 +0000   \n",
       "2353  2015-11-15 23:21:54 +0000   \n",
       "2354  2015-11-15 23:05:30 +0000   \n",
       "2355  2015-11-15 22:32:08 +0000   \n",
       "\n",
       "                                                 source  \\\n",
       "0     <a href=\"http://twitter.com/download/iphone\" r...   \n",
       "1     <a href=\"http://twitter.com/download/iphone\" r...   \n",
       "2     <a href=\"http://twitter.com/download/iphone\" r...   \n",
       "3     <a href=\"http://twitter.com/download/iphone\" r...   \n",
       "4     <a href=\"http://twitter.com/download/iphone\" r...   \n",
       "...                                                 ...   \n",
       "2351  <a href=\"http://twitter.com/download/iphone\" r...   \n",
       "2352  <a href=\"http://twitter.com/download/iphone\" r...   \n",
       "2353  <a href=\"http://twitter.com/download/iphone\" r...   \n",
       "2354  <a href=\"http://twitter.com/download/iphone\" r...   \n",
       "2355  <a href=\"http://twitter.com/download/iphone\" r...   \n",
       "\n",
       "                                                   text  retweeted_status_id  \\\n",
       "0     This is Phineas. He's a mystical boy. Only eve...                  NaN   \n",
       "1     This is Tilly. She's just checking pup on you....                  NaN   \n",
       "2     This is Archie. He is a rare Norwegian Pouncin...                  NaN   \n",
       "3     This is Darla. She commenced a snooze mid meal...                  NaN   \n",
       "4     This is Franklin. He would like you to stop ca...                  NaN   \n",
       "...                                                 ...                  ...   \n",
       "2351  Here we have a 1949 1st generation vulpix. Enj...                  NaN   \n",
       "2352  This is a purebred Piers Morgan. Loves to Netf...                  NaN   \n",
       "2353  Here is a very happy pup. Big fan of well-main...                  NaN   \n",
       "2354  This is a western brown Mitsubishi terrier. Up...                  NaN   \n",
       "2355  Here we have a Japanese Irish Setter. Lost eye...                  NaN   \n",
       "\n",
       "      retweeted_status_user_id retweeted_status_timestamp  \\\n",
       "0                          NaN                        NaN   \n",
       "1                          NaN                        NaN   \n",
       "2                          NaN                        NaN   \n",
       "3                          NaN                        NaN   \n",
       "4                          NaN                        NaN   \n",
       "...                        ...                        ...   \n",
       "2351                       NaN                        NaN   \n",
       "2352                       NaN                        NaN   \n",
       "2353                       NaN                        NaN   \n",
       "2354                       NaN                        NaN   \n",
       "2355                       NaN                        NaN   \n",
       "\n",
       "                                          expanded_urls  rating_numerator  \\\n",
       "0     https://twitter.com/dog_rates/status/892420643...                13   \n",
       "1     https://twitter.com/dog_rates/status/892177421...                13   \n",
       "2     https://twitter.com/dog_rates/status/891815181...                12   \n",
       "3     https://twitter.com/dog_rates/status/891689557...                13   \n",
       "4     https://twitter.com/dog_rates/status/891327558...                12   \n",
       "...                                                 ...               ...   \n",
       "2351  https://twitter.com/dog_rates/status/666049248...                 5   \n",
       "2352  https://twitter.com/dog_rates/status/666044226...                 6   \n",
       "2353  https://twitter.com/dog_rates/status/666033412...                 9   \n",
       "2354  https://twitter.com/dog_rates/status/666029285...                 7   \n",
       "2355  https://twitter.com/dog_rates/status/666020888...                 8   \n",
       "\n",
       "      rating_denominator      name doggo floofer pupper puppo  \n",
       "0                     10   Phineas  None    None   None  None  \n",
       "1                     10     Tilly  None    None   None  None  \n",
       "2                     10    Archie  None    None   None  None  \n",
       "3                     10     Darla  None    None   None  None  \n",
       "4                     10  Franklin  None    None   None  None  \n",
       "...                  ...       ...   ...     ...    ...   ...  \n",
       "2351                  10      None  None    None   None  None  \n",
       "2352                  10         a  None    None   None  None  \n",
       "2353                  10         a  None    None   None  None  \n",
       "2354                  10         a  None    None   None  None  \n",
       "2355                  10      None  None    None   None  None  \n",
       "\n",
       "[2356 rows x 17 columns]"
      ]
     },
     "execution_count": 1249,
     "metadata": {},
     "output_type": "execute_result"
    }
   ],
   "source": [
    "#printing the twitter_archive dataframe\n",
    "twitter_archive"
   ]
  },
  {
   "cell_type": "code",
   "execution_count": 1250,
   "id": "e48e42c5",
   "metadata": {},
   "outputs": [
    {
     "name": "stdout",
     "output_type": "stream",
     "text": [
      "<class 'pandas.core.frame.DataFrame'>\n",
      "RangeIndex: 2356 entries, 0 to 2355\n",
      "Data columns (total 17 columns):\n",
      " #   Column                      Non-Null Count  Dtype  \n",
      "---  ------                      --------------  -----  \n",
      " 0   tweet_id                    2356 non-null   int64  \n",
      " 1   in_reply_to_status_id       78 non-null     float64\n",
      " 2   in_reply_to_user_id         78 non-null     float64\n",
      " 3   timestamp                   2356 non-null   object \n",
      " 4   source                      2356 non-null   object \n",
      " 5   text                        2356 non-null   object \n",
      " 6   retweeted_status_id         181 non-null    float64\n",
      " 7   retweeted_status_user_id    181 non-null    float64\n",
      " 8   retweeted_status_timestamp  181 non-null    object \n",
      " 9   expanded_urls               2297 non-null   object \n",
      " 10  rating_numerator            2356 non-null   int64  \n",
      " 11  rating_denominator          2356 non-null   int64  \n",
      " 12  name                        2356 non-null   object \n",
      " 13  doggo                       2356 non-null   object \n",
      " 14  floofer                     2356 non-null   object \n",
      " 15  pupper                      2356 non-null   object \n",
      " 16  puppo                       2356 non-null   object \n",
      "dtypes: float64(4), int64(3), object(10)\n",
      "memory usage: 313.0+ KB\n"
     ]
    }
   ],
   "source": [
    "twitter_archive.info()"
   ]
  },
  {
   "cell_type": "code",
   "execution_count": 1251,
   "id": "9db84641",
   "metadata": {},
   "outputs": [
    {
     "data": {
      "text/html": [
       "<div>\n",
       "<style scoped>\n",
       "    .dataframe tbody tr th:only-of-type {\n",
       "        vertical-align: middle;\n",
       "    }\n",
       "\n",
       "    .dataframe tbody tr th {\n",
       "        vertical-align: top;\n",
       "    }\n",
       "\n",
       "    .dataframe thead th {\n",
       "        text-align: right;\n",
       "    }\n",
       "</style>\n",
       "<table border=\"1\" class=\"dataframe\">\n",
       "  <thead>\n",
       "    <tr style=\"text-align: right;\">\n",
       "      <th></th>\n",
       "      <th>tweet_id</th>\n",
       "      <th>in_reply_to_status_id</th>\n",
       "      <th>in_reply_to_user_id</th>\n",
       "      <th>retweeted_status_id</th>\n",
       "      <th>retweeted_status_user_id</th>\n",
       "      <th>rating_numerator</th>\n",
       "      <th>rating_denominator</th>\n",
       "    </tr>\n",
       "  </thead>\n",
       "  <tbody>\n",
       "    <tr>\n",
       "      <th>count</th>\n",
       "      <td>2.356000e+03</td>\n",
       "      <td>7.800000e+01</td>\n",
       "      <td>7.800000e+01</td>\n",
       "      <td>1.810000e+02</td>\n",
       "      <td>1.810000e+02</td>\n",
       "      <td>2356.000000</td>\n",
       "      <td>2356.000000</td>\n",
       "    </tr>\n",
       "    <tr>\n",
       "      <th>mean</th>\n",
       "      <td>7.427716e+17</td>\n",
       "      <td>7.455079e+17</td>\n",
       "      <td>2.014171e+16</td>\n",
       "      <td>7.720400e+17</td>\n",
       "      <td>1.241698e+16</td>\n",
       "      <td>13.126486</td>\n",
       "      <td>10.455433</td>\n",
       "    </tr>\n",
       "    <tr>\n",
       "      <th>std</th>\n",
       "      <td>6.856705e+16</td>\n",
       "      <td>7.582492e+16</td>\n",
       "      <td>1.252797e+17</td>\n",
       "      <td>6.236928e+16</td>\n",
       "      <td>9.599254e+16</td>\n",
       "      <td>45.876648</td>\n",
       "      <td>6.745237</td>\n",
       "    </tr>\n",
       "    <tr>\n",
       "      <th>min</th>\n",
       "      <td>6.660209e+17</td>\n",
       "      <td>6.658147e+17</td>\n",
       "      <td>1.185634e+07</td>\n",
       "      <td>6.661041e+17</td>\n",
       "      <td>7.832140e+05</td>\n",
       "      <td>0.000000</td>\n",
       "      <td>0.000000</td>\n",
       "    </tr>\n",
       "    <tr>\n",
       "      <th>25%</th>\n",
       "      <td>6.783989e+17</td>\n",
       "      <td>6.757419e+17</td>\n",
       "      <td>3.086374e+08</td>\n",
       "      <td>7.186315e+17</td>\n",
       "      <td>4.196984e+09</td>\n",
       "      <td>10.000000</td>\n",
       "      <td>10.000000</td>\n",
       "    </tr>\n",
       "    <tr>\n",
       "      <th>50%</th>\n",
       "      <td>7.196279e+17</td>\n",
       "      <td>7.038708e+17</td>\n",
       "      <td>4.196984e+09</td>\n",
       "      <td>7.804657e+17</td>\n",
       "      <td>4.196984e+09</td>\n",
       "      <td>11.000000</td>\n",
       "      <td>10.000000</td>\n",
       "    </tr>\n",
       "    <tr>\n",
       "      <th>75%</th>\n",
       "      <td>7.993373e+17</td>\n",
       "      <td>8.257804e+17</td>\n",
       "      <td>4.196984e+09</td>\n",
       "      <td>8.203146e+17</td>\n",
       "      <td>4.196984e+09</td>\n",
       "      <td>12.000000</td>\n",
       "      <td>10.000000</td>\n",
       "    </tr>\n",
       "    <tr>\n",
       "      <th>max</th>\n",
       "      <td>8.924206e+17</td>\n",
       "      <td>8.862664e+17</td>\n",
       "      <td>8.405479e+17</td>\n",
       "      <td>8.874740e+17</td>\n",
       "      <td>7.874618e+17</td>\n",
       "      <td>1776.000000</td>\n",
       "      <td>170.000000</td>\n",
       "    </tr>\n",
       "  </tbody>\n",
       "</table>\n",
       "</div>"
      ],
      "text/plain": [
       "           tweet_id  in_reply_to_status_id  in_reply_to_user_id  \\\n",
       "count  2.356000e+03           7.800000e+01         7.800000e+01   \n",
       "mean   7.427716e+17           7.455079e+17         2.014171e+16   \n",
       "std    6.856705e+16           7.582492e+16         1.252797e+17   \n",
       "min    6.660209e+17           6.658147e+17         1.185634e+07   \n",
       "25%    6.783989e+17           6.757419e+17         3.086374e+08   \n",
       "50%    7.196279e+17           7.038708e+17         4.196984e+09   \n",
       "75%    7.993373e+17           8.257804e+17         4.196984e+09   \n",
       "max    8.924206e+17           8.862664e+17         8.405479e+17   \n",
       "\n",
       "       retweeted_status_id  retweeted_status_user_id  rating_numerator  \\\n",
       "count         1.810000e+02              1.810000e+02       2356.000000   \n",
       "mean          7.720400e+17              1.241698e+16         13.126486   \n",
       "std           6.236928e+16              9.599254e+16         45.876648   \n",
       "min           6.661041e+17              7.832140e+05          0.000000   \n",
       "25%           7.186315e+17              4.196984e+09         10.000000   \n",
       "50%           7.804657e+17              4.196984e+09         11.000000   \n",
       "75%           8.203146e+17              4.196984e+09         12.000000   \n",
       "max           8.874740e+17              7.874618e+17       1776.000000   \n",
       "\n",
       "       rating_denominator  \n",
       "count         2356.000000  \n",
       "mean            10.455433  \n",
       "std              6.745237  \n",
       "min              0.000000  \n",
       "25%             10.000000  \n",
       "50%             10.000000  \n",
       "75%             10.000000  \n",
       "max            170.000000  "
      ]
     },
     "execution_count": 1251,
     "metadata": {},
     "output_type": "execute_result"
    }
   ],
   "source": [
    "twitter_archive.describe()"
   ]
  },
  {
   "cell_type": "code",
   "execution_count": 1252,
   "id": "26d1b5d9",
   "metadata": {},
   "outputs": [],
   "source": [
    "name_list = twitter_archive['name'].unique().tolist()\n"
   ]
  },
  {
   "cell_type": "code",
   "execution_count": 1253,
   "id": "76656669",
   "metadata": {},
   "outputs": [
    {
     "name": "stdout",
     "output_type": "stream",
     "text": [
      "['Abby', 'Ace', 'Acro', 'Adele', 'Aiden', 'Aja', 'Akumi', 'Al', 'Albert', 'Albus', 'Aldrick', 'Alejandro', 'Alexander', 'Alexanderson', 'Alf', 'Alfie', 'Alfy', 'Alice', 'Amber', 'Ambrose', 'Amy', 'Amélie', 'Anakin', 'Andru', 'Andy', 'Angel', 'Anna', 'Anthony', 'Antony', 'Apollo', 'Aqua', 'Archie', 'Arlen', 'Arlo', 'Arnie', 'Arnold', 'Arya', 'Ash', 'Asher', 'Ashleigh', 'Aspen', 'Astrid', 'Atlas', 'Atticus', 'Aubie', 'Augie', 'Autumn', 'Ava', 'Axel', 'Bailey', 'Baloo', 'Balto', 'Banditt', 'Banjo', 'Barclay', 'Barney', 'Baron', 'Barry', 'Batdog', 'Bauer', 'Baxter', 'Bayley', 'BeBe', 'Bear', 'Beau', 'Beckham', 'Beebop', 'Beemo', 'Bell', 'Bella', 'Belle', 'Ben', 'Benedict', 'Benji', 'Benny', 'Bentley', 'Berb', 'Berkeley', 'Bernie', 'Bert', 'Bertson', 'Betty', 'Beya', 'Biden', 'Bilbo', 'Billl', 'Billy', 'Binky', 'Birf', 'Bisquick', 'Blakely', 'Blanket', 'Blipson', 'Blitz', 'Bloo', 'Bloop', 'Blu', 'Blue', 'Bluebert', 'Bo', 'Bob', 'Bobb', 'Bobbay', 'Bobble', 'Bobby', 'Bode', 'Bodie', 'Bonaparte', 'Bones', 'Bookstore', 'Boomer', 'Boots', 'Boston', 'Bowie', 'Brad', 'Bradlay', 'Bradley', 'Brady', 'Brandi', 'Brandonald', 'Brandy', 'Brat', 'Brian', 'Brockly', 'Brody', 'Bronte', 'Brooks', 'Brownie', 'Bruce', 'Brudge', 'Bruiser', 'Bruno', 'Brutus', 'Bubba', 'Bubbles', 'Buckley', 'Buddah', 'Buddy', 'Bungalo', 'Burt', 'Butter', 'Butters', 'Cal', 'Calbert', 'Cali', 'Callie', 'Calvin', 'Canela', 'Cannon', 'Carbon', 'Carl', 'Carll', 'Carly', 'Carper', 'Carter', 'Caryl', 'Cash', 'Cassie', 'CeCe', 'Cecil', 'Cedrick', 'Cermet', 'Chadrick', 'Champ', 'Charl', 'Charles', 'Charleson', 'Charlie', 'Chase', 'Chaz', 'Cheesy', 'Chef', 'Chelsea', 'Cheryl', 'Chesney', 'Chester', 'Chesterson', 'Chet', 'Chevy', 'Chip', 'Chipson', 'Chloe', 'Chompsky', 'Christoper', 'Chubbs', 'Chuck', 'Chuckles', 'Chuq', 'Churlie', 'Cilantro', 'Clarence', 'Clark', 'Clarkus', 'Clarq', 'Claude', 'Cleopatricia', 'Clifford', 'Clybe', 'Clyde', 'Coco', 'Cody', 'Colby', 'Coleman', 'Colin', 'Combo', 'Comet', 'Cooper', 'Coops', 'Coopson', 'Cora', 'Corey', 'Covach', 'Craig', 'Crawford', 'Creg', 'Crimson', 'Crouton', 'Crumpet', 'Crystal', 'Cuddles', 'Cupcake', 'Cupid', 'Curtis', 'Daisy', 'Dakota', 'Dale', 'Dallas', 'Damon', 'Daniel', 'Danny', 'Dante', 'Darby', 'Darla', 'Darrel', 'Dash', 'Dave', 'Davey', 'Dawn', 'DayZ', 'Deacon', 'Derby', 'Derek', 'Devón', 'Dewey', 'Dex', 'Dexter', 'Dido', 'Dietrich', 'Diogi', 'Divine', 'Dixie', 'Django', 'Dobby', 'Doc', 'DonDon', 'Donny', 'Doobert', 'Dook', 'Dot', 'Dotsy', 'Doug', 'Duchess', 'Duddles', 'Dudley', 'Dug', 'Duke', 'Dunkin', 'Durg', 'Dutch', 'Dwight', 'Dylan', 'Earl', 'Eazy', 'Ebby', 'Ed', 'Edd', 'Edgar', 'Edmund', 'Eevee', 'Einstein', 'Eleanor', 'Eli', 'Ellie', 'Elliot', 'Emanuel', 'Ember', 'Emma', 'Emmie', 'Emmy', 'Enchilada', 'Erik', 'Eriq', 'Ester', 'Eugene', 'Eve', 'Evy', 'Fabio', 'Farfle', 'Ferg', 'Fido', 'Fiji', 'Fillup', 'Filup', 'Finley', 'Finn', 'Finnegus', 'Fiona', 'Fizz', 'Flash', 'Fletcher', 'Florence', 'Flurpson', 'Flávio', 'Frank', 'Frankie', 'Franklin', 'Franq', 'Fred', 'Freddery', 'Frönq', 'Furzey', 'Fwed', 'Fynn', 'Gabby', 'Gabe', 'Gary', 'General', 'Genevieve', 'Geno', 'Geoff', 'George', 'Georgie', 'Gerald', 'Gerbald', 'Gert', 'Gidget', 'Gilbert', 'Gin', 'Ginger', 'Gizmo', 'Glacier', 'Glenn', 'Godi', 'Godzilla', 'Goliath', 'Goose', 'Gordon', 'Grady', 'Grey', 'Griffin', 'Griswold', 'Grizz', 'Grizzie', 'Grizzwald', 'Gromit', 'Gunner', 'Gus', 'Gustaf', 'Gustav', 'Gòrdón', 'Hall', 'Halo', 'Hammond', 'Hamrick', 'Hank', 'Hanz', 'Happy', 'Harlso', 'Harnold', 'Harold', 'Harper', 'Harrison', 'Harry', 'Harvey', 'Hazel', 'Hector', 'Heinrich', 'Henry', 'Herald', 'Herb', 'Hercules', 'Herm', 'Hermione', 'Hero', 'Herschel', 'Hobbes', 'Holly', 'Horace', 'Howie', 'Hubertson', 'Huck', 'Humphrey', 'Hunter', 'Hurley', 'Huxley', 'Iggy', 'Ike', 'Indie', 'Iroh', 'Ito', 'Ivar', 'Izzy', 'JD', 'Jack', 'Jackie', 'Jackson', 'Jameson', 'Jamesy', 'Jangle', 'Jareld', 'Jarod', 'Jarvis', 'Jaspers', 'Jax', 'Jay', 'Jaycob', 'Jazz', 'Jazzy', 'Jeb', 'Jebberson', 'Jed', 'Jeffrey', 'Jeffri', 'Jeffrie', 'Jennifur', 'Jeph', 'Jeremy', 'Jerome', 'Jerry', 'Jersey', 'Jesse', 'Jessifer', 'Jessiga', 'Jett', 'Jim', 'Jimbo', 'Jiminus', 'Jiminy', 'Jimison', 'Jimothy', 'Jo', 'Jockson', 'Joey', 'Jomathan', 'Jonah', 'Jordy', 'Josep', 'Joshwa', 'Juckson', 'Julio', 'Julius', 'Juno', 'Kaia', 'Kaiya', 'Kallie', 'Kane', 'Kanu', 'Kara', 'Karl', 'Karll', 'Karma', 'Kathmandu', 'Katie', 'Kawhi', 'Kayla', 'Keet', 'Keith', 'Kellogg', 'Ken', 'Kendall', 'Kenneth', 'Kenny', 'Kenzie', 'Keurig', 'Kevin', 'Kevon', 'Kial', 'Kilo', 'Kingsley', 'Kirby', 'Kirk', 'Klein', 'Klevin', 'Kloey', 'Kobe', 'Koda', 'Kody', 'Koko', 'Kollin', 'Kona', 'Kota', 'Kramer', 'Kreg', 'Kreggory', 'Kulet', 'Kuyu', 'Kyle', 'Kyro', 'Lacy', 'Laela', 'Laika', 'Lambeau', 'Lance', 'Larry', 'Lassie', 'Layla', 'Leela', 'Lennon', 'Lenny', 'Lenox', 'Leo', 'Leonard', 'Leonidas', 'Levi', 'Liam', 'Lilah', 'Lili', 'Lilli', 'Lillie', 'Lilly', 'Lily', 'Lincoln', 'Linda', 'Link', 'Linus', 'Lipton', 'Livvie', 'Lizzie', 'Logan', 'Loki', 'Lola', 'Lolo', 'Longfellow', 'Loomis', 'Lorelei', 'Lorenzo', 'Lou', 'Louie', 'Louis', 'Luca', 'Lucia', 'Lucky', 'Lucy', 'Lugan', 'Lulu', 'Luna', 'Lupe', 'Luther', 'Mabel', 'Mac', 'Mack', 'Maddie', 'Maggie', 'Mairi', 'Maisey', 'Major', 'Maks', 'Malcolm', 'Malikai', 'Margo', 'Mark', 'Marlee', 'Marley', 'Marq', 'Marty', 'Marvin', 'Mary', 'Mason', 'Mattie', 'Maude', 'Mauve', 'Max', 'Maxaroni', 'Maximus', 'Maxwell', 'Maya', 'Meatball', 'Meera', 'Meyer', 'Mia', 'Michelangelope', 'Miguel', 'Mike', 'Miley', 'Milky', 'Millie', 'Milo', 'Mimosa', 'Mingus', 'Mister', 'Misty', 'Mitch', 'Mo', 'Moe', 'Mojo', 'Mollie', 'Molly', 'Mona', 'Monkey', 'Monster', 'Monty', 'Moofasa', 'Mookie', 'Moose', 'Moreton', 'Mosby', 'Murphy', 'Mutt', 'Mya', 'Nala', 'Naphaniel', 'Napolean', 'Nelly', 'Neptune', 'Newt', 'Nico', 'Nida', 'Nigel', 'Nimbus', 'Noah', 'Nollie', 'None', 'Noosh', 'Norman', 'Nugget', 'O', 'Oakley', 'Obi', 'Obie', 'Oddie', 'Odie', 'Odin', 'Olaf', 'Ole', 'Olive', 'Oliver', 'Olivia', 'Oliviér', 'Ollie', 'Opal', 'Opie', 'Oreo', 'Orion', 'Oscar', 'Oshie', 'Otis', 'Ozzie', 'Ozzy', 'Pablo', 'Paisley', 'Pancake', 'Panda', 'Patch', 'Patrick', 'Paull', 'Pavlov', 'Pawnd', 'Peaches', 'Peanut', 'Penelope', 'Penny', 'Pepper', 'Percy', 'Perry', 'Pete', 'Petrick', 'Pherb', 'Phil', 'Philbert', 'Philippe', 'Phineas', 'Phred', 'Pickles', 'Pilot', 'Pinot', 'Pip', 'Piper', 'Pippa', 'Pippin', 'Pipsy', 'Pluto', 'Poppy', 'Pubert', 'Puff', 'Pumpkin', 'Pupcasso', 'Quinn', 'Ralf', 'Ralph', 'Ralpher', 'Ralphie', 'Ralphson', 'Ralphus', 'Ralphy', 'Ralphé', 'Rambo', 'Randall', 'Raphael', 'Rascal', 'Raymond', 'Reagan', 'Reese', 'Reggie', 'Reginald', 'Remington', 'Remus', 'Remy', 'Reptar', 'Rey', 'Rhino', 'Richie', 'Ricky', 'Ridley', 'Riley', 'Rilo', 'Rinna', 'River', 'Rizzo', 'Rizzy', 'Robin', 'Rocco', 'Rocky', 'Rodman', 'Rodney', 'Rolf', 'Romeo', 'Ron', 'Ronduh', 'Ronnie', 'Rontu', 'Rooney', 'Roosevelt', 'Rorie', 'Rory', 'Roscoe', 'Rose', 'Rosie', 'Rover', 'Rubio', 'Ruby', 'Rudy', 'Rueben', 'Ruffles', 'Rufio', 'Rufus', 'Rumble', 'Rumpole', 'Rupert', 'Rusty', 'Sadie', 'Sage', 'Sailer', 'Sailor', 'Sam', 'Sammy', 'Sampson', 'Samsom', 'Samson', 'Sandra', 'Sandy', 'Sansa', 'Sarge', 'Saydee', 'Schnitzel', 'Schnozz', 'Scooter', 'Scott', 'Scout', 'Scruffers', 'Seamus', 'Sebastian', 'Sephie', 'Severus', 'Shadoe', 'Shadow', 'Shaggy', 'Shakespeare', 'Shawwn', 'Shelby', 'Shikha', 'Shiloh', 'Shnuggles', 'Shooter', 'Siba', 'Sid', 'Sierra', 'Simba', 'Skittle', 'Skittles', 'Sky', 'Skye', 'Smiley', 'Smokey', 'Snickers', 'Snicku', 'Snoop', 'Snoopy', 'Sobe', 'Socks', 'Sojourner', 'Solomon', 'Sonny', 'Sophie', 'Sora', 'Spanky', 'Spark', 'Sparky', 'Spencer', 'Sprinkles', 'Sprout', 'Staniel', 'Stanley', 'Stark', 'Stefan', 'Stella', 'Stephan', 'Stephanus', 'Steve', 'Steven', 'Stewie', 'Storkson', 'Stormy', 'Strider', 'Striker', 'Strudel', 'Stu', 'Stuart', 'Stubert', 'Sugar', 'Suki', 'Sully', 'Sundance', 'Sunny', 'Sunshine', 'Superpup', 'Swagger', 'Sweet', 'Sweets', 'Taco', 'Tango', 'Tanner', 'Tassy', 'Tater', 'Tayzie', 'Taz', 'Tebow', 'Ted', 'Tedders', 'Teddy', 'Tedrick', 'Terrance', 'Terrenth', 'Terry', 'Tess', 'Tessa', 'Theo', 'Theodore', 'Thor', 'Thumas', 'Tiger', 'Tilly', 'Timber', 'Timison', 'Timmy', 'Timofy', 'Tino', 'Titan', 'Tito', 'Tobi', 'Toby', 'Todo', 'Toffee', 'Tom', 'Tommy', 'Tonks', 'Torque', 'Tove', 'Travis', 'Traviss', 'Trevith', 'Trigger', 'Trip', 'Tripp', 'Trooper', 'Tuck', 'Tucker', 'Tuco', 'Tug', 'Tupawc', 'Tycho', 'Tyr', 'Tyrone', 'Tyrus', 'Ulysses', 'Venti', 'Vince', 'Vincent', 'Vinnie', 'Vinscent', 'Vixen', 'Wafer', 'Waffles', 'Walker', 'Wallace', 'Wally', 'Walter', 'Watson', 'Wesley', 'Wiggles', 'Willem', 'William', 'Willie', 'Willow', 'Willy', 'Wilson', 'Winifred', 'Winnie', 'Winston', 'Wishes', 'Wyatt', 'Yoda', 'Yogi', 'Yukon', 'Zara', 'Zeek', 'Zeke', 'Zeus', 'Ziva', 'Zoe', 'Zoey', 'Zooey', 'Zuzu', 'a', 'actually', 'all', 'an', 'by', 'getting', 'his', 'incredibly', 'infuriating', 'just', 'life', 'light', 'mad', 'my', 'not', 'officially', 'old', 'one', 'quite', 'space', 'such', 'the', 'this', 'unacceptable', 'very']\n"
     ]
    }
   ],
   "source": [
    "name_list.sort()\n",
    "print(name_list)"
   ]
  },
  {
   "cell_type": "code",
   "execution_count": 1254,
   "id": "36e4f2e2",
   "metadata": {},
   "outputs": [
    {
     "data": {
      "text/plain": [
       "<AxesSubplot:>"
      ]
     },
     "execution_count": 1254,
     "metadata": {},
     "output_type": "execute_result"
    },
    {
     "data": {
      "image/png": "[encoded data removed]",
      "text/plain": [
       "<Figure size 1800x720 with 2 Axes>"
      ]
     },
     "metadata": {
      "needs_background": "light"
     },
     "output_type": "display_data"
    }
   ],
   "source": [
    "msno.matrix(twitter_archive)"
   ]
  },
  {
   "cell_type": "markdown",
   "id": "07137c99",
   "metadata": {},
   "source": [
    "## Investigating the Predictions dataframe"
   ]
  },
  {
   "cell_type": "code",
   "execution_count": 1255,
   "id": "4ecc7c61",
   "metadata": {},
   "outputs": [
    {
     "data": {
      "text/html": [
       "<div>\n",
       "<style scoped>\n",
       "    .dataframe tbody tr th:only-of-type {\n",
       "        vertical-align: middle;\n",
       "    }\n",
       "\n",
       "    .dataframe tbody tr th {\n",
       "        vertical-align: top;\n",
       "    }\n",
       "\n",
       "    .dataframe thead th {\n",
       "        text-align: right;\n",
       "    }\n",
       "</style>\n",
       "<table border=\"1\" class=\"dataframe\">\n",
       "  <thead>\n",
       "    <tr style=\"text-align: right;\">\n",
       "      <th></th>\n",
       "      <th>tweet_id</th>\n",
       "      <th>jpg_url</th>\n",
       "      <th>img_num</th>\n",
       "      <th>p1</th>\n",
       "      <th>p1_conf</th>\n",
       "      <th>p1_dog</th>\n",
       "      <th>p2</th>\n",
       "      <th>p2_conf</th>\n",
       "      <th>p2_dog</th>\n",
       "      <th>p3</th>\n",
       "      <th>p3_conf</th>\n",
       "      <th>p3_dog</th>\n",
       "    </tr>\n",
       "  </thead>\n",
       "  <tbody>\n",
       "    <tr>\n",
       "      <th>0</th>\n",
       "      <td>666020888022790149</td>\n",
       "      <td>https://pbs.twimg.com/media/CT4udn0WwAA0aMy.jpg</td>\n",
       "      <td>1</td>\n",
       "      <td>Welsh_springer_spaniel</td>\n",
       "      <td>0.465074</td>\n",
       "      <td>True</td>\n",
       "      <td>collie</td>\n",
       "      <td>0.156665</td>\n",
       "      <td>True</td>\n",
       "      <td>Shetland_sheepdog</td>\n",
       "      <td>0.061428</td>\n",
       "      <td>True</td>\n",
       "    </tr>\n",
       "    <tr>\n",
       "      <th>1</th>\n",
       "      <td>666029285002620928</td>\n",
       "      <td>https://pbs.twimg.com/media/CT42GRgUYAA5iDo.jpg</td>\n",
       "      <td>1</td>\n",
       "      <td>redbone</td>\n",
       "      <td>0.506826</td>\n",
       "      <td>True</td>\n",
       "      <td>miniature_pinscher</td>\n",
       "      <td>0.074192</td>\n",
       "      <td>True</td>\n",
       "      <td>Rhodesian_ridgeback</td>\n",
       "      <td>0.072010</td>\n",
       "      <td>True</td>\n",
       "    </tr>\n",
       "    <tr>\n",
       "      <th>2</th>\n",
       "      <td>666033412701032449</td>\n",
       "      <td>https://pbs.twimg.com/media/CT4521TWwAEvMyu.jpg</td>\n",
       "      <td>1</td>\n",
       "      <td>German_shepherd</td>\n",
       "      <td>0.596461</td>\n",
       "      <td>True</td>\n",
       "      <td>malinois</td>\n",
       "      <td>0.138584</td>\n",
       "      <td>True</td>\n",
       "      <td>bloodhound</td>\n",
       "      <td>0.116197</td>\n",
       "      <td>True</td>\n",
       "    </tr>\n",
       "    <tr>\n",
       "      <th>3</th>\n",
       "      <td>666044226329800704</td>\n",
       "      <td>https://pbs.twimg.com/media/CT5Dr8HUEAA-lEu.jpg</td>\n",
       "      <td>1</td>\n",
       "      <td>Rhodesian_ridgeback</td>\n",
       "      <td>0.408143</td>\n",
       "      <td>True</td>\n",
       "      <td>redbone</td>\n",
       "      <td>0.360687</td>\n",
       "      <td>True</td>\n",
       "      <td>miniature_pinscher</td>\n",
       "      <td>0.222752</td>\n",
       "      <td>True</td>\n",
       "    </tr>\n",
       "    <tr>\n",
       "      <th>4</th>\n",
       "      <td>666049248165822465</td>\n",
       "      <td>https://pbs.twimg.com/media/CT5IQmsXIAAKY4A.jpg</td>\n",
       "      <td>1</td>\n",
       "      <td>miniature_pinscher</td>\n",
       "      <td>0.560311</td>\n",
       "      <td>True</td>\n",
       "      <td>Rottweiler</td>\n",
       "      <td>0.243682</td>\n",
       "      <td>True</td>\n",
       "      <td>Doberman</td>\n",
       "      <td>0.154629</td>\n",
       "      <td>True</td>\n",
       "    </tr>\n",
       "    <tr>\n",
       "      <th>...</th>\n",
       "      <td>...</td>\n",
       "      <td>...</td>\n",
       "      <td>...</td>\n",
       "      <td>...</td>\n",
       "      <td>...</td>\n",
       "      <td>...</td>\n",
       "      <td>...</td>\n",
       "      <td>...</td>\n",
       "      <td>...</td>\n",
       "      <td>...</td>\n",
       "      <td>...</td>\n",
       "      <td>...</td>\n",
       "    </tr>\n",
       "    <tr>\n",
       "      <th>2070</th>\n",
       "      <td>891327558926688256</td>\n",
       "      <td>https://pbs.twimg.com/media/DF6hr6BUMAAzZgT.jpg</td>\n",
       "      <td>2</td>\n",
       "      <td>basset</td>\n",
       "      <td>0.555712</td>\n",
       "      <td>True</td>\n",
       "      <td>English_springer</td>\n",
       "      <td>0.225770</td>\n",
       "      <td>True</td>\n",
       "      <td>German_short-haired_pointer</td>\n",
       "      <td>0.175219</td>\n",
       "      <td>True</td>\n",
       "    </tr>\n",
       "    <tr>\n",
       "      <th>2071</th>\n",
       "      <td>891689557279858688</td>\n",
       "      <td>https://pbs.twimg.com/media/DF_q7IAWsAEuuN8.jpg</td>\n",
       "      <td>1</td>\n",
       "      <td>paper_towel</td>\n",
       "      <td>0.170278</td>\n",
       "      <td>False</td>\n",
       "      <td>Labrador_retriever</td>\n",
       "      <td>0.168086</td>\n",
       "      <td>True</td>\n",
       "      <td>spatula</td>\n",
       "      <td>0.040836</td>\n",
       "      <td>False</td>\n",
       "    </tr>\n",
       "    <tr>\n",
       "      <th>2072</th>\n",
       "      <td>891815181378084864</td>\n",
       "      <td>https://pbs.twimg.com/media/DGBdLU1WsAANxJ9.jpg</td>\n",
       "      <td>1</td>\n",
       "      <td>Chihuahua</td>\n",
       "      <td>0.716012</td>\n",
       "      <td>True</td>\n",
       "      <td>malamute</td>\n",
       "      <td>0.078253</td>\n",
       "      <td>True</td>\n",
       "      <td>kelpie</td>\n",
       "      <td>0.031379</td>\n",
       "      <td>True</td>\n",
       "    </tr>\n",
       "    <tr>\n",
       "      <th>2073</th>\n",
       "      <td>892177421306343426</td>\n",
       "      <td>https://pbs.twimg.com/media/DGGmoV4XsAAUL6n.jpg</td>\n",
       "      <td>1</td>\n",
       "      <td>Chihuahua</td>\n",
       "      <td>0.323581</td>\n",
       "      <td>True</td>\n",
       "      <td>Pekinese</td>\n",
       "      <td>0.090647</td>\n",
       "      <td>True</td>\n",
       "      <td>papillon</td>\n",
       "      <td>0.068957</td>\n",
       "      <td>True</td>\n",
       "    </tr>\n",
       "    <tr>\n",
       "      <th>2074</th>\n",
       "      <td>892420643555336193</td>\n",
       "      <td>https://pbs.twimg.com/media/DGKD1-bXoAAIAUK.jpg</td>\n",
       "      <td>1</td>\n",
       "      <td>orange</td>\n",
       "      <td>0.097049</td>\n",
       "      <td>False</td>\n",
       "      <td>bagel</td>\n",
       "      <td>0.085851</td>\n",
       "      <td>False</td>\n",
       "      <td>banana</td>\n",
       "      <td>0.076110</td>\n",
       "      <td>False</td>\n",
       "    </tr>\n",
       "  </tbody>\n",
       "</table>\n",
       "<p>2075 rows × 12 columns</p>\n",
       "</div>"
      ],
      "text/plain": [
       "                tweet_id                                          jpg_url  \\\n",
       "0     666020888022790149  https://pbs.twimg.com/media/CT4udn0WwAA0aMy.jpg   \n",
       "1     666029285002620928  https://pbs.twimg.com/media/CT42GRgUYAA5iDo.jpg   \n",
       "2     666033412701032449  https://pbs.twimg.com/media/CT4521TWwAEvMyu.jpg   \n",
       "3     666044226329800704  https://pbs.twimg.com/media/CT5Dr8HUEAA-lEu.jpg   \n",
       "4     666049248165822465  https://pbs.twimg.com/media/CT5IQmsXIAAKY4A.jpg   \n",
       "...                  ...                                              ...   \n",
       "2070  891327558926688256  https://pbs.twimg.com/media/DF6hr6BUMAAzZgT.jpg   \n",
       "2071  891689557279858688  https://pbs.twimg.com/media/DF_q7IAWsAEuuN8.jpg   \n",
       "2072  891815181378084864  https://pbs.twimg.com/media/DGBdLU1WsAANxJ9.jpg   \n",
       "2073  892177421306343426  https://pbs.twimg.com/media/DGGmoV4XsAAUL6n.jpg   \n",
       "2074  892420643555336193  https://pbs.twimg.com/media/DGKD1-bXoAAIAUK.jpg   \n",
       "\n",
       "      img_num                      p1   p1_conf  p1_dog                  p2  \\\n",
       "0           1  Welsh_springer_spaniel  0.465074    True              collie   \n",
       "1           1                 redbone  0.506826    True  miniature_pinscher   \n",
       "2           1         German_shepherd  0.596461    True            malinois   \n",
       "3           1     Rhodesian_ridgeback  0.408143    True             redbone   \n",
       "4           1      miniature_pinscher  0.560311    True          Rottweiler   \n",
       "...       ...                     ...       ...     ...                 ...   \n",
       "2070        2                  basset  0.555712    True    English_springer   \n",
       "2071        1             paper_towel  0.170278   False  Labrador_retriever   \n",
       "2072        1               Chihuahua  0.716012    True            malamute   \n",
       "2073        1               Chihuahua  0.323581    True            Pekinese   \n",
       "2074        1                  orange  0.097049   False               bagel   \n",
       "\n",
       "       p2_conf  p2_dog                           p3   p3_conf  p3_dog  \n",
       "0     0.156665    True            Shetland_sheepdog  0.061428    True  \n",
       "1     0.074192    True          Rhodesian_ridgeback  0.072010    True  \n",
       "2     0.138584    True                   bloodhound  0.116197    True  \n",
       "3     0.360687    True           miniature_pinscher  0.222752    True  \n",
       "4     0.243682    True                     Doberman  0.154629    True  \n",
       "...        ...     ...                          ...       ...     ...  \n",
       "2070  0.225770    True  German_short-haired_pointer  0.175219    True  \n",
       "2071  0.168086    True                      spatula  0.040836   False  \n",
       "2072  0.078253    True                       kelpie  0.031379    True  \n",
       "2073  0.090647    True                     papillon  0.068957    True  \n",
       "2074  0.085851   False                       banana  0.076110   False  \n",
       "\n",
       "[2075 rows x 12 columns]"
      ]
     },
     "execution_count": 1255,
     "metadata": {},
     "output_type": "execute_result"
    }
   ],
   "source": [
    "predictions"
   ]
  },
  {
   "cell_type": "code",
   "execution_count": 1256,
   "id": "70590f11",
   "metadata": {},
   "outputs": [
    {
     "name": "stdout",
     "output_type": "stream",
     "text": [
      "<class 'pandas.core.frame.DataFrame'>\n",
      "RangeIndex: 2075 entries, 0 to 2074\n",
      "Data columns (total 12 columns):\n",
      " #   Column    Non-Null Count  Dtype  \n",
      "---  ------    --------------  -----  \n",
      " 0   tweet_id  2075 non-null   int64  \n",
      " 1   jpg_url   2075 non-null   object \n",
      " 2   img_num   2075 non-null   int64  \n",
      " 3   p1        2075 non-null   object \n",
      " 4   p1_conf   2075 non-null   float64\n",
      " 5   p1_dog    2075 non-null   bool   \n",
      " 6   p2        2075 non-null   object \n",
      " 7   p2_conf   2075 non-null   float64\n",
      " 8   p2_dog    2075 non-null   bool   \n",
      " 9   p3        2075 non-null   object \n",
      " 10  p3_conf   2075 non-null   float64\n",
      " 11  p3_dog    2075 non-null   bool   \n",
      "dtypes: bool(3), float64(3), int64(2), object(4)\n",
      "memory usage: 152.1+ KB\n"
     ]
    }
   ],
   "source": [
    "predictions.info()"
   ]
  },
  {
   "cell_type": "code",
   "execution_count": 1257,
   "id": "1adcca74",
   "metadata": {},
   "outputs": [
    {
     "data": {
      "text/plain": [
       "<AxesSubplot:>"
      ]
     },
     "execution_count": 1257,
     "metadata": {},
     "output_type": "execute_result"
    },
    {
     "data": {
      "image/png": "[encoded data removed]",
      "text/plain": [
       "<Figure size 1800x720 with 2 Axes>"
      ]
     },
     "metadata": {
      "needs_background": "light"
     },
     "output_type": "display_data"
    }
   ],
   "source": [
    "msno.matrix(predictions)"
   ]
  },
  {
   "cell_type": "code",
   "execution_count": 1258,
   "id": "700d2456",
   "metadata": {},
   "outputs": [],
   "source": [
    "#investigating false prediction entries\n",
    "false_dogs = predictions[(predictions.p1_dog == False) & (predictions.p2_dog == False) & (predictions.p3_dog == False)]"
   ]
  },
  {
   "cell_type": "code",
   "execution_count": 1259,
   "id": "03c48a73",
   "metadata": {},
   "outputs": [
    {
     "data": {
      "text/html": [
       "<div>\n",
       "<style scoped>\n",
       "    .dataframe tbody tr th:only-of-type {\n",
       "        vertical-align: middle;\n",
       "    }\n",
       "\n",
       "    .dataframe tbody tr th {\n",
       "        vertical-align: top;\n",
       "    }\n",
       "\n",
       "    .dataframe thead th {\n",
       "        text-align: right;\n",
       "    }\n",
       "</style>\n",
       "<table border=\"1\" class=\"dataframe\">\n",
       "  <thead>\n",
       "    <tr style=\"text-align: right;\">\n",
       "      <th></th>\n",
       "      <th>tweet_id</th>\n",
       "      <th>jpg_url</th>\n",
       "      <th>img_num</th>\n",
       "      <th>p1</th>\n",
       "      <th>p1_conf</th>\n",
       "      <th>p1_dog</th>\n",
       "      <th>p2</th>\n",
       "      <th>p2_conf</th>\n",
       "      <th>p2_dog</th>\n",
       "      <th>p3</th>\n",
       "      <th>p3_conf</th>\n",
       "      <th>p3_dog</th>\n",
       "    </tr>\n",
       "  </thead>\n",
       "  <tbody>\n",
       "    <tr>\n",
       "      <th>6</th>\n",
       "      <td>666051853826850816</td>\n",
       "      <td>https://pbs.twimg.com/media/CT5KoJ1WoAAJash.jpg</td>\n",
       "      <td>1</td>\n",
       "      <td>box_turtle</td>\n",
       "      <td>0.933012</td>\n",
       "      <td>False</td>\n",
       "      <td>mud_turtle</td>\n",
       "      <td>0.045885</td>\n",
       "      <td>False</td>\n",
       "      <td>terrapin</td>\n",
       "      <td>0.017885</td>\n",
       "      <td>False</td>\n",
       "    </tr>\n",
       "    <tr>\n",
       "      <th>17</th>\n",
       "      <td>666104133288665088</td>\n",
       "      <td>https://pbs.twimg.com/media/CT56LSZWoAAlJj2.jpg</td>\n",
       "      <td>1</td>\n",
       "      <td>hen</td>\n",
       "      <td>0.965932</td>\n",
       "      <td>False</td>\n",
       "      <td>cock</td>\n",
       "      <td>0.033919</td>\n",
       "      <td>False</td>\n",
       "      <td>partridge</td>\n",
       "      <td>0.000052</td>\n",
       "      <td>False</td>\n",
       "    </tr>\n",
       "    <tr>\n",
       "      <th>18</th>\n",
       "      <td>666268910803644416</td>\n",
       "      <td>https://pbs.twimg.com/media/CT8QCd1WEAADXws.jpg</td>\n",
       "      <td>1</td>\n",
       "      <td>desktop_computer</td>\n",
       "      <td>0.086502</td>\n",
       "      <td>False</td>\n",
       "      <td>desk</td>\n",
       "      <td>0.085547</td>\n",
       "      <td>False</td>\n",
       "      <td>bookcase</td>\n",
       "      <td>0.079480</td>\n",
       "      <td>False</td>\n",
       "    </tr>\n",
       "    <tr>\n",
       "      <th>21</th>\n",
       "      <td>666293911632134144</td>\n",
       "      <td>https://pbs.twimg.com/media/CT8mx7KW4AEQu8N.jpg</td>\n",
       "      <td>1</td>\n",
       "      <td>three-toed_sloth</td>\n",
       "      <td>0.914671</td>\n",
       "      <td>False</td>\n",
       "      <td>otter</td>\n",
       "      <td>0.015250</td>\n",
       "      <td>False</td>\n",
       "      <td>great_grey_owl</td>\n",
       "      <td>0.013207</td>\n",
       "      <td>False</td>\n",
       "    </tr>\n",
       "    <tr>\n",
       "      <th>25</th>\n",
       "      <td>666362758909284353</td>\n",
       "      <td>https://pbs.twimg.com/media/CT9lXGsUcAAyUFt.jpg</td>\n",
       "      <td>1</td>\n",
       "      <td>guinea_pig</td>\n",
       "      <td>0.996496</td>\n",
       "      <td>False</td>\n",
       "      <td>skunk</td>\n",
       "      <td>0.002402</td>\n",
       "      <td>False</td>\n",
       "      <td>hamster</td>\n",
       "      <td>0.000461</td>\n",
       "      <td>False</td>\n",
       "    </tr>\n",
       "    <tr>\n",
       "      <th>29</th>\n",
       "      <td>666411507551481857</td>\n",
       "      <td>https://pbs.twimg.com/media/CT-RugiWIAELEaq.jpg</td>\n",
       "      <td>1</td>\n",
       "      <td>coho</td>\n",
       "      <td>0.404640</td>\n",
       "      <td>False</td>\n",
       "      <td>barracouta</td>\n",
       "      <td>0.271485</td>\n",
       "      <td>False</td>\n",
       "      <td>gar</td>\n",
       "      <td>0.189945</td>\n",
       "      <td>False</td>\n",
       "    </tr>\n",
       "    <tr>\n",
       "      <th>45</th>\n",
       "      <td>666786068205871104</td>\n",
       "      <td>https://pbs.twimg.com/media/CUDmZIkWcAAIPPe.jpg</td>\n",
       "      <td>1</td>\n",
       "      <td>snail</td>\n",
       "      <td>0.999888</td>\n",
       "      <td>False</td>\n",
       "      <td>slug</td>\n",
       "      <td>0.000055</td>\n",
       "      <td>False</td>\n",
       "      <td>acorn</td>\n",
       "      <td>0.000026</td>\n",
       "      <td>False</td>\n",
       "    </tr>\n",
       "    <tr>\n",
       "      <th>50</th>\n",
       "      <td>666837028449972224</td>\n",
       "      <td>https://pbs.twimg.com/media/CUEUva1WsAA2jPb.jpg</td>\n",
       "      <td>1</td>\n",
       "      <td>triceratops</td>\n",
       "      <td>0.442113</td>\n",
       "      <td>False</td>\n",
       "      <td>armadillo</td>\n",
       "      <td>0.114071</td>\n",
       "      <td>False</td>\n",
       "      <td>common_iguana</td>\n",
       "      <td>0.043255</td>\n",
       "      <td>False</td>\n",
       "    </tr>\n",
       "    <tr>\n",
       "      <th>51</th>\n",
       "      <td>666983947667116034</td>\n",
       "      <td>https://pbs.twimg.com/media/CUGaXDhW4AY9JUH.jpg</td>\n",
       "      <td>1</td>\n",
       "      <td>swab</td>\n",
       "      <td>0.589446</td>\n",
       "      <td>False</td>\n",
       "      <td>chain_saw</td>\n",
       "      <td>0.190142</td>\n",
       "      <td>False</td>\n",
       "      <td>wig</td>\n",
       "      <td>0.034510</td>\n",
       "      <td>False</td>\n",
       "    </tr>\n",
       "    <tr>\n",
       "      <th>53</th>\n",
       "      <td>667012601033924608</td>\n",
       "      <td>https://pbs.twimg.com/media/CUG0bC0U8AAw2su.jpg</td>\n",
       "      <td>1</td>\n",
       "      <td>hyena</td>\n",
       "      <td>0.987230</td>\n",
       "      <td>False</td>\n",
       "      <td>African_hunting_dog</td>\n",
       "      <td>0.012601</td>\n",
       "      <td>False</td>\n",
       "      <td>coyote</td>\n",
       "      <td>0.000057</td>\n",
       "      <td>False</td>\n",
       "    </tr>\n",
       "  </tbody>\n",
       "</table>\n",
       "</div>"
      ],
      "text/plain": [
       "              tweet_id                                          jpg_url  \\\n",
       "6   666051853826850816  https://pbs.twimg.com/media/CT5KoJ1WoAAJash.jpg   \n",
       "17  666104133288665088  https://pbs.twimg.com/media/CT56LSZWoAAlJj2.jpg   \n",
       "18  666268910803644416  https://pbs.twimg.com/media/CT8QCd1WEAADXws.jpg   \n",
       "21  666293911632134144  https://pbs.twimg.com/media/CT8mx7KW4AEQu8N.jpg   \n",
       "25  666362758909284353  https://pbs.twimg.com/media/CT9lXGsUcAAyUFt.jpg   \n",
       "29  666411507551481857  https://pbs.twimg.com/media/CT-RugiWIAELEaq.jpg   \n",
       "45  666786068205871104  https://pbs.twimg.com/media/CUDmZIkWcAAIPPe.jpg   \n",
       "50  666837028449972224  https://pbs.twimg.com/media/CUEUva1WsAA2jPb.jpg   \n",
       "51  666983947667116034  https://pbs.twimg.com/media/CUGaXDhW4AY9JUH.jpg   \n",
       "53  667012601033924608  https://pbs.twimg.com/media/CUG0bC0U8AAw2su.jpg   \n",
       "\n",
       "    img_num                p1   p1_conf  p1_dog                   p2  \\\n",
       "6         1        box_turtle  0.933012   False           mud_turtle   \n",
       "17        1               hen  0.965932   False                 cock   \n",
       "18        1  desktop_computer  0.086502   False                 desk   \n",
       "21        1  three-toed_sloth  0.914671   False                otter   \n",
       "25        1        guinea_pig  0.996496   False                skunk   \n",
       "29        1              coho  0.404640   False           barracouta   \n",
       "45        1             snail  0.999888   False                 slug   \n",
       "50        1       triceratops  0.442113   False            armadillo   \n",
       "51        1              swab  0.589446   False            chain_saw   \n",
       "53        1             hyena  0.987230   False  African_hunting_dog   \n",
       "\n",
       "     p2_conf  p2_dog              p3   p3_conf  p3_dog  \n",
       "6   0.045885   False        terrapin  0.017885   False  \n",
       "17  0.033919   False       partridge  0.000052   False  \n",
       "18  0.085547   False        bookcase  0.079480   False  \n",
       "21  0.015250   False  great_grey_owl  0.013207   False  \n",
       "25  0.002402   False         hamster  0.000461   False  \n",
       "29  0.271485   False             gar  0.189945   False  \n",
       "45  0.000055   False           acorn  0.000026   False  \n",
       "50  0.114071   False   common_iguana  0.043255   False  \n",
       "51  0.190142   False             wig  0.034510   False  \n",
       "53  0.012601   False          coyote  0.000057   False  "
      ]
     },
     "execution_count": 1259,
     "metadata": {},
     "output_type": "execute_result"
    }
   ],
   "source": [
    "false_dogs.head(10)"
   ]
  },
  {
   "cell_type": "code",
   "execution_count": 1260,
   "id": "d6d00c2c",
   "metadata": {},
   "outputs": [
    {
     "data": {
      "text/html": [
       "<div>\n",
       "<style scoped>\n",
       "    .dataframe tbody tr th:only-of-type {\n",
       "        vertical-align: middle;\n",
       "    }\n",
       "\n",
       "    .dataframe tbody tr th {\n",
       "        vertical-align: top;\n",
       "    }\n",
       "\n",
       "    .dataframe thead th {\n",
       "        text-align: right;\n",
       "    }\n",
       "</style>\n",
       "<table border=\"1\" class=\"dataframe\">\n",
       "  <thead>\n",
       "    <tr style=\"text-align: right;\">\n",
       "      <th></th>\n",
       "      <th>tweet_id</th>\n",
       "      <th>jpg_url</th>\n",
       "      <th>img_num</th>\n",
       "      <th>p1</th>\n",
       "      <th>p1_conf</th>\n",
       "      <th>p1_dog</th>\n",
       "      <th>p2</th>\n",
       "      <th>p2_conf</th>\n",
       "      <th>p2_dog</th>\n",
       "      <th>p3</th>\n",
       "      <th>p3_conf</th>\n",
       "      <th>p3_dog</th>\n",
       "    </tr>\n",
       "  </thead>\n",
       "  <tbody>\n",
       "    <tr>\n",
       "      <th>51</th>\n",
       "      <td>666983947667116034</td>\n",
       "      <td>https://pbs.twimg.com/media/CUGaXDhW4AY9JUH.jpg</td>\n",
       "      <td>1</td>\n",
       "      <td>swab</td>\n",
       "      <td>0.589446</td>\n",
       "      <td>False</td>\n",
       "      <td>chain_saw</td>\n",
       "      <td>0.190142</td>\n",
       "      <td>False</td>\n",
       "      <td>wig</td>\n",
       "      <td>0.03451</td>\n",
       "      <td>False</td>\n",
       "    </tr>\n",
       "  </tbody>\n",
       "</table>\n",
       "</div>"
      ],
      "text/plain": [
       "              tweet_id                                          jpg_url  \\\n",
       "51  666983947667116034  https://pbs.twimg.com/media/CUGaXDhW4AY9JUH.jpg   \n",
       "\n",
       "    img_num    p1   p1_conf  p1_dog         p2   p2_conf  p2_dog   p3  \\\n",
       "51        1  swab  0.589446   False  chain_saw  0.190142   False  wig   \n",
       "\n",
       "    p3_conf  p3_dog  \n",
       "51  0.03451   False  "
      ]
     },
     "execution_count": 1260,
     "metadata": {},
     "output_type": "execute_result"
    }
   ],
   "source": [
    "#investigating one entry for accuracy\n",
    "predictions.query('tweet_id == 666983947667116034')"
   ]
  },
  {
   "cell_type": "code",
   "execution_count": 1261,
   "id": "273aa9b0",
   "metadata": {},
   "outputs": [
    {
     "data": {
      "image/png": "[encoded data removed]",
      "text/plain": [
       "<Figure size 432x288 with 1 Axes>"
      ]
     },
     "metadata": {
      "needs_background": "light"
     },
     "output_type": "display_data"
    }
   ],
   "source": [
    "img=mpimg.imread('dog_in_life_vest.jpg')\n",
    "imgplot = plt.imshow(img)"
   ]
  },
  {
   "cell_type": "markdown",
   "id": "9ec3bd3b",
   "metadata": {},
   "source": [
    "## Investigating the tweet_json dataframe"
   ]
  },
  {
   "cell_type": "code",
   "execution_count": 1262,
   "id": "205837da",
   "metadata": {},
   "outputs": [
    {
     "data": {
      "text/html": [
       "<div>\n",
       "<style scoped>\n",
       "    .dataframe tbody tr th:only-of-type {\n",
       "        vertical-align: middle;\n",
       "    }\n",
       "\n",
       "    .dataframe tbody tr th {\n",
       "        vertical-align: top;\n",
       "    }\n",
       "\n",
       "    .dataframe thead th {\n",
       "        text-align: right;\n",
       "    }\n",
       "</style>\n",
       "<table border=\"1\" class=\"dataframe\">\n",
       "  <thead>\n",
       "    <tr style=\"text-align: right;\">\n",
       "      <th></th>\n",
       "      <th>tweet_id</th>\n",
       "      <th>retweet_count</th>\n",
       "      <th>favorite_count</th>\n",
       "    </tr>\n",
       "  </thead>\n",
       "  <tbody>\n",
       "    <tr>\n",
       "      <th>0</th>\n",
       "      <td>892420643555336193</td>\n",
       "      <td>8853</td>\n",
       "      <td>39467</td>\n",
       "    </tr>\n",
       "    <tr>\n",
       "      <th>1</th>\n",
       "      <td>892177421306343426</td>\n",
       "      <td>6514</td>\n",
       "      <td>33819</td>\n",
       "    </tr>\n",
       "    <tr>\n",
       "      <th>2</th>\n",
       "      <td>891815181378084864</td>\n",
       "      <td>4328</td>\n",
       "      <td>25461</td>\n",
       "    </tr>\n",
       "    <tr>\n",
       "      <th>3</th>\n",
       "      <td>891689557279858688</td>\n",
       "      <td>8964</td>\n",
       "      <td>42908</td>\n",
       "    </tr>\n",
       "    <tr>\n",
       "      <th>4</th>\n",
       "      <td>891327558926688256</td>\n",
       "      <td>9774</td>\n",
       "      <td>41048</td>\n",
       "    </tr>\n",
       "    <tr>\n",
       "      <th>...</th>\n",
       "      <td>...</td>\n",
       "      <td>...</td>\n",
       "      <td>...</td>\n",
       "    </tr>\n",
       "    <tr>\n",
       "      <th>2349</th>\n",
       "      <td>666049248165822465</td>\n",
       "      <td>41</td>\n",
       "      <td>111</td>\n",
       "    </tr>\n",
       "    <tr>\n",
       "      <th>2350</th>\n",
       "      <td>666044226329800704</td>\n",
       "      <td>147</td>\n",
       "      <td>311</td>\n",
       "    </tr>\n",
       "    <tr>\n",
       "      <th>2351</th>\n",
       "      <td>666033412701032449</td>\n",
       "      <td>47</td>\n",
       "      <td>128</td>\n",
       "    </tr>\n",
       "    <tr>\n",
       "      <th>2352</th>\n",
       "      <td>666029285002620928</td>\n",
       "      <td>48</td>\n",
       "      <td>132</td>\n",
       "    </tr>\n",
       "    <tr>\n",
       "      <th>2353</th>\n",
       "      <td>666020888022790149</td>\n",
       "      <td>532</td>\n",
       "      <td>2535</td>\n",
       "    </tr>\n",
       "  </tbody>\n",
       "</table>\n",
       "<p>2354 rows × 3 columns</p>\n",
       "</div>"
      ],
      "text/plain": [
       "                tweet_id  retweet_count  favorite_count\n",
       "0     892420643555336193           8853           39467\n",
       "1     892177421306343426           6514           33819\n",
       "2     891815181378084864           4328           25461\n",
       "3     891689557279858688           8964           42908\n",
       "4     891327558926688256           9774           41048\n",
       "...                  ...            ...             ...\n",
       "2349  666049248165822465             41             111\n",
       "2350  666044226329800704            147             311\n",
       "2351  666033412701032449             47             128\n",
       "2352  666029285002620928             48             132\n",
       "2353  666020888022790149            532            2535\n",
       "\n",
       "[2354 rows x 3 columns]"
      ]
     },
     "execution_count": 1262,
     "metadata": {},
     "output_type": "execute_result"
    }
   ],
   "source": [
    "tweet_json"
   ]
  },
  {
   "cell_type": "code",
   "execution_count": 1263,
   "id": "7190cba3",
   "metadata": {},
   "outputs": [
    {
     "name": "stdout",
     "output_type": "stream",
     "text": [
      "<class 'pandas.core.frame.DataFrame'>\n",
      "RangeIndex: 2354 entries, 0 to 2353\n",
      "Data columns (total 3 columns):\n",
      " #   Column          Non-Null Count  Dtype\n",
      "---  ------          --------------  -----\n",
      " 0   tweet_id        2354 non-null   int64\n",
      " 1   retweet_count   2354 non-null   int64\n",
      " 2   favorite_count  2354 non-null   int64\n",
      "dtypes: int64(3)\n",
      "memory usage: 55.3 KB\n"
     ]
    }
   ],
   "source": [
    "tweet_json.info()"
   ]
  },
  {
   "cell_type": "code",
   "execution_count": 1264,
   "id": "75c62ac4",
   "metadata": {},
   "outputs": [
    {
     "data": {
      "text/html": [
       "<div>\n",
       "<style scoped>\n",
       "    .dataframe tbody tr th:only-of-type {\n",
       "        vertical-align: middle;\n",
       "    }\n",
       "\n",
       "    .dataframe tbody tr th {\n",
       "        vertical-align: top;\n",
       "    }\n",
       "\n",
       "    .dataframe thead th {\n",
       "        text-align: right;\n",
       "    }\n",
       "</style>\n",
       "<table border=\"1\" class=\"dataframe\">\n",
       "  <thead>\n",
       "    <tr style=\"text-align: right;\">\n",
       "      <th></th>\n",
       "      <th>tweet_id</th>\n",
       "      <th>retweet_count</th>\n",
       "      <th>favorite_count</th>\n",
       "    </tr>\n",
       "  </thead>\n",
       "  <tbody>\n",
       "    <tr>\n",
       "      <th>count</th>\n",
       "      <td>2.354000e+03</td>\n",
       "      <td>2354.000000</td>\n",
       "      <td>2354.000000</td>\n",
       "    </tr>\n",
       "    <tr>\n",
       "      <th>mean</th>\n",
       "      <td>7.426978e+17</td>\n",
       "      <td>3164.797366</td>\n",
       "      <td>8080.968564</td>\n",
       "    </tr>\n",
       "    <tr>\n",
       "      <th>std</th>\n",
       "      <td>6.852812e+16</td>\n",
       "      <td>5284.770364</td>\n",
       "      <td>11814.771334</td>\n",
       "    </tr>\n",
       "    <tr>\n",
       "      <th>min</th>\n",
       "      <td>6.660209e+17</td>\n",
       "      <td>0.000000</td>\n",
       "      <td>0.000000</td>\n",
       "    </tr>\n",
       "    <tr>\n",
       "      <th>25%</th>\n",
       "      <td>6.783975e+17</td>\n",
       "      <td>624.500000</td>\n",
       "      <td>1415.000000</td>\n",
       "    </tr>\n",
       "    <tr>\n",
       "      <th>50%</th>\n",
       "      <td>7.194596e+17</td>\n",
       "      <td>1473.500000</td>\n",
       "      <td>3603.500000</td>\n",
       "    </tr>\n",
       "    <tr>\n",
       "      <th>75%</th>\n",
       "      <td>7.993058e+17</td>\n",
       "      <td>3652.000000</td>\n",
       "      <td>10122.250000</td>\n",
       "    </tr>\n",
       "    <tr>\n",
       "      <th>max</th>\n",
       "      <td>8.924206e+17</td>\n",
       "      <td>79515.000000</td>\n",
       "      <td>132810.000000</td>\n",
       "    </tr>\n",
       "  </tbody>\n",
       "</table>\n",
       "</div>"
      ],
      "text/plain": [
       "           tweet_id  retweet_count  favorite_count\n",
       "count  2.354000e+03    2354.000000     2354.000000\n",
       "mean   7.426978e+17    3164.797366     8080.968564\n",
       "std    6.852812e+16    5284.770364    11814.771334\n",
       "min    6.660209e+17       0.000000        0.000000\n",
       "25%    6.783975e+17     624.500000     1415.000000\n",
       "50%    7.194596e+17    1473.500000     3603.500000\n",
       "75%    7.993058e+17    3652.000000    10122.250000\n",
       "max    8.924206e+17   79515.000000   132810.000000"
      ]
     },
     "execution_count": 1264,
     "metadata": {},
     "output_type": "execute_result"
    }
   ],
   "source": [
    "tweet_json.describe()"
   ]
  },
  {
   "cell_type": "code",
   "execution_count": 1265,
   "id": "9e7970ab",
   "metadata": {},
   "outputs": [
    {
     "data": {
      "text/plain": [
       "<AxesSubplot:>"
      ]
     },
     "execution_count": 1265,
     "metadata": {},
     "output_type": "execute_result"
    },
    {
     "data": {
      "image/png": "[encoded data removed]",
      "text/plain": [
       "<Figure size 1800x720 with 2 Axes>"
      ]
     },
     "metadata": {
      "needs_background": "light"
     },
     "output_type": "display_data"
    }
   ],
   "source": [
    "#showing a plot of data completeness. Though we can see from above that there are entries with 0 that will need to be cleaned later\n",
    "msno.matrix(tweet_json)"
   ]
  },
  {
   "cell_type": "markdown",
   "id": "c676a32f",
   "metadata": {},
   "source": [
    "# Step 3: Identify Quality Issues\n",
    "<a id=\"cell4\"></a>\n",
    "\n",
    "- The timestamp column in twitter_archive is a data type of object and not a datetime or timestamp datatype.\n",
    "- There are 59 missing entries in the expanded_url column.\n",
    "- There are entries that are retweets and need to be removed\n",
    "- The source column entry is too long and needs to be shortened\n",
    "- The name column contains entries that are not names, like \"a\" and \"by\", all lower case names entries appear to be non-names\n",
    "- The prediction dataframe contains entries that are not dogs\n",
    "- The prediction dataframe columns need descriptive column names\n",
    "- Some of the predictions that are \"false\" for a dog are indeed pictures of dogs\n",
    "- The img_num column is not needed and can be removed\n",
    "- The tweet_json data has entries with 0's in the retweet_count and favorite_count, that may be missing data which needs to be removed\n",
    "- The three datasets do not have the same amount of entries, this will need to be cleaned so analysis and visualizations can be created\n",
    "\n",
    "## Tidiness\n",
    "\n",
    " - The \"doggo\", \"floofer\", \"pupper\" and \"puppo\" columns in the twitter_archive dataframe need to be melded into one categorical column\n",
    " - All three dataframes need to be melded into one by using the \"tweet_id\" "
   ]
  },
  {
   "cell_type": "markdown",
   "id": "4584bcea",
   "metadata": {},
   "source": [
    "# Step 4: Clean and Tidy Data\n",
    "<a id=\"cell5\"></a>"
   ]
  },
  {
   "cell_type": "code",
   "execution_count": 1266,
   "id": "c8e23400",
   "metadata": {},
   "outputs": [],
   "source": [
    "#Copy dataframe\n",
    "twitter_archive_copy = twitter_archive.copy()"
   ]
  },
  {
   "cell_type": "markdown",
   "id": "dc0e3d11",
   "metadata": {},
   "source": [
    "### Define: Casting the \"timestamp\" column to a datetime datatype. \n",
    "\n",
    "#### Code:"
   ]
  },
  {
   "cell_type": "code",
   "execution_count": 1267,
   "id": "f8a0ba69",
   "metadata": {},
   "outputs": [],
   "source": [
    "#Cast timestamp to datetime\n",
    "twitter_archive_copy['timestamp'] = pd.to_datetime(twitter_archive['timestamp'])"
   ]
  },
  {
   "cell_type": "markdown",
   "id": "b662fd8c",
   "metadata": {},
   "source": [
    "### Test"
   ]
  },
  {
   "cell_type": "code",
   "execution_count": 1268,
   "id": "3d7b0712",
   "metadata": {},
   "outputs": [
    {
     "name": "stdout",
     "output_type": "stream",
     "text": [
      "<class 'pandas.core.frame.DataFrame'>\n",
      "RangeIndex: 2356 entries, 0 to 2355\n",
      "Data columns (total 17 columns):\n",
      " #   Column                      Non-Null Count  Dtype              \n",
      "---  ------                      --------------  -----              \n",
      " 0   tweet_id                    2356 non-null   int64              \n",
      " 1   in_reply_to_status_id       78 non-null     float64            \n",
      " 2   in_reply_to_user_id         78 non-null     float64            \n",
      " 3   timestamp                   2356 non-null   datetime64[ns, UTC]\n",
      " 4   source                      2356 non-null   object             \n",
      " 5   text                        2356 non-null   object             \n",
      " 6   retweeted_status_id         181 non-null    float64            \n",
      " 7   retweeted_status_user_id    181 non-null    float64            \n",
      " 8   retweeted_status_timestamp  181 non-null    object             \n",
      " 9   expanded_urls               2297 non-null   object             \n",
      " 10  rating_numerator            2356 non-null   int64              \n",
      " 11  rating_denominator          2356 non-null   int64              \n",
      " 12  name                        2356 non-null   object             \n",
      " 13  doggo                       2356 non-null   object             \n",
      " 14  floofer                     2356 non-null   object             \n",
      " 15  pupper                      2356 non-null   object             \n",
      " 16  puppo                       2356 non-null   object             \n",
      "dtypes: datetime64[ns, UTC](1), float64(4), int64(3), object(9)\n",
      "memory usage: 313.0+ KB\n"
     ]
    }
   ],
   "source": [
    "# timestamp shows datetime dtype\n",
    "twitter_archive_copy.info()"
   ]
  },
  {
   "cell_type": "markdown",
   "id": "56a6a144",
   "metadata": {},
   "source": [
    "### Define: Drop empty values from \"expanded_url\" column in twitter_archive\n",
    "\n",
    "#### Code:"
   ]
  },
  {
   "cell_type": "code",
   "execution_count": 1269,
   "id": "9787c298",
   "metadata": {},
   "outputs": [],
   "source": [
    "#drop na records from expanded_urls\n",
    "twitter_archive_copy = twitter_archive.dropna(axis=0, how='any', subset=['expanded_urls'])"
   ]
  },
  {
   "cell_type": "markdown",
   "id": "3b18456d",
   "metadata": {},
   "source": [
    "### Test"
   ]
  },
  {
   "cell_type": "code",
   "execution_count": 1270,
   "id": "e3c931b0",
   "metadata": {},
   "outputs": [
    {
     "data": {
      "text/plain": [
       "<AxesSubplot:>"
      ]
     },
     "execution_count": 1270,
     "metadata": {},
     "output_type": "execute_result"
    },
    {
     "data": {
      "image/png": "[encoded data removed]",
      "text/plain": [
       "<Figure size 1800x720 with 2 Axes>"
      ]
     },
     "metadata": {
      "needs_background": "light"
     },
     "output_type": "display_data"
    }
   ],
   "source": [
    "#expanded_urls column now show no empty records\n",
    "msno.matrix(twitter_archive_copy)"
   ]
  },
  {
   "cell_type": "markdown",
   "id": "8c460a49",
   "metadata": {},
   "source": [
    "We can see that the empty values in the \"expanded_urls\" column have been dropped. Next we will work on removing the retweeted entries as we do not want these included."
   ]
  },
  {
   "cell_type": "markdown",
   "id": "2ff28964",
   "metadata": {},
   "source": [
    "### Define: Remove the retweeted entries\n",
    "\n",
    "#### Code:"
   ]
  },
  {
   "cell_type": "code",
   "execution_count": 1271,
   "id": "14efef41",
   "metadata": {},
   "outputs": [],
   "source": [
    "#removing the retweeted and unneeded columns\n",
    "twitter_archive_copy.drop(['in_reply_to_status_id', 'in_reply_to_user_id', 'retweeted_status_id', 'retweeted_status_user_id', 'retweeted_status_timestamp'], axis = 1, inplace=True)"
   ]
  },
  {
   "cell_type": "markdown",
   "id": "13bdd3f4",
   "metadata": {},
   "source": [
    "### Test"
   ]
  },
  {
   "cell_type": "code",
   "execution_count": 1272,
   "id": "c1b8f331",
   "metadata": {},
   "outputs": [
    {
     "data": {
      "text/plain": [
       "<AxesSubplot:>"
      ]
     },
     "execution_count": 1272,
     "metadata": {},
     "output_type": "execute_result"
    },
    {
     "data": {
      "image/png": "[encoded data removed]",
      "text/plain": [
       "<Figure size 1728x720 with 3 Axes>"
      ]
     },
     "metadata": {
      "needs_background": "light"
     },
     "output_type": "display_data"
    }
   ],
   "source": [
    "#the unneeded columns have been dropped\n",
    "msno.bar(twitter_archive_copy)"
   ]
  },
  {
   "cell_type": "code",
   "execution_count": 1273,
   "id": "2b6a9350",
   "metadata": {},
   "outputs": [
    {
     "name": "stdout",
     "output_type": "stream",
     "text": [
      "<class 'pandas.core.frame.DataFrame'>\n",
      "Int64Index: 2297 entries, 0 to 2355\n",
      "Data columns (total 12 columns):\n",
      " #   Column              Non-Null Count  Dtype \n",
      "---  ------              --------------  ----- \n",
      " 0   tweet_id            2297 non-null   int64 \n",
      " 1   timestamp           2297 non-null   object\n",
      " 2   source              2297 non-null   object\n",
      " 3   text                2297 non-null   object\n",
      " 4   expanded_urls       2297 non-null   object\n",
      " 5   rating_numerator    2297 non-null   int64 \n",
      " 6   rating_denominator  2297 non-null   int64 \n",
      " 7   name                2297 non-null   object\n",
      " 8   doggo               2297 non-null   object\n",
      " 9   floofer             2297 non-null   object\n",
      " 10  pupper              2297 non-null   object\n",
      " 11  puppo               2297 non-null   object\n",
      "dtypes: int64(3), object(9)\n",
      "memory usage: 233.3+ KB\n"
     ]
    }
   ],
   "source": [
    "twitter_archive_copy.info()"
   ]
  },
  {
   "cell_type": "markdown",
   "id": "210c7f24",
   "metadata": {},
   "source": [
    "### Define: Combine the \"doggo\", \"floofer\", \"pupper\" and \"puppo\" columns.\n",
    "\n",
    "#### Code:"
   ]
  },
  {
   "cell_type": "code",
   "execution_count": 1274,
   "id": "f3b9e4fe",
   "metadata": {},
   "outputs": [],
   "source": [
    "#combining columns into \"age\" column\n",
    "twitter_archive_copy['age'] = twitter_archive[['doggo', 'floofer', 'pupper', 'puppo']].max(axis=1)"
   ]
  },
  {
   "cell_type": "code",
   "execution_count": 1275,
   "id": "64b3ff9f",
   "metadata": {},
   "outputs": [],
   "source": [
    "#removing the extra columns\n",
    "twitter_archive_copy = twitter_archive_copy[['tweet_id', 'timestamp', 'source', 'text', 'expanded_urls', 'rating_numerator', 'rating_denominator', 'name', 'age']]"
   ]
  },
  {
   "cell_type": "markdown",
   "id": "3299fc9e",
   "metadata": {},
   "source": [
    "### Test"
   ]
  },
  {
   "cell_type": "code",
   "execution_count": 1276,
   "id": "a81a17e1",
   "metadata": {},
   "outputs": [
    {
     "name": "stdout",
     "output_type": "stream",
     "text": [
      "<class 'pandas.core.frame.DataFrame'>\n",
      "Int64Index: 2297 entries, 0 to 2355\n",
      "Data columns (total 9 columns):\n",
      " #   Column              Non-Null Count  Dtype \n",
      "---  ------              --------------  ----- \n",
      " 0   tweet_id            2297 non-null   int64 \n",
      " 1   timestamp           2297 non-null   object\n",
      " 2   source              2297 non-null   object\n",
      " 3   text                2297 non-null   object\n",
      " 4   expanded_urls       2297 non-null   object\n",
      " 5   rating_numerator    2297 non-null   int64 \n",
      " 6   rating_denominator  2297 non-null   int64 \n",
      " 7   name                2297 non-null   object\n",
      " 8   age                 2297 non-null   object\n",
      "dtypes: int64(3), object(6)\n",
      "memory usage: 179.5+ KB\n"
     ]
    }
   ],
   "source": [
    "twitter_archive_copy.info()"
   ]
  },
  {
   "cell_type": "markdown",
   "id": "9bf98a55",
   "metadata": {},
   "source": [
    "### Define: Update \"source\" column values to shorter values. Values are a full url that can be shortened for better visibility\n",
    "\n",
    "#### Code:"
   ]
  },
  {
   "cell_type": "code",
   "execution_count": 1277,
   "id": "f30d3888",
   "metadata": {},
   "outputs": [
    {
     "data": {
      "text/plain": [
       "['<a href=\"http://twitter.com/download/iphone\" rel=\"nofollow\">Twitter for iPhone</a>',\n",
       " '<a href=\"http://twitter.com\" rel=\"nofollow\">Twitter Web Client</a>',\n",
       " '<a href=\"http://vine.co\" rel=\"nofollow\">Vine - Make a Scene</a>',\n",
       " '<a href=\"https://about.twitter.com/products/tweetdeck\" rel=\"nofollow\">TweetDeck</a>']"
      ]
     },
     "execution_count": 1277,
     "metadata": {},
     "output_type": "execute_result"
    }
   ],
   "source": [
    "#get list of unique values from source column\n",
    "twitter_archive_copy['source'].unique().tolist()"
   ]
  },
  {
   "cell_type": "code",
   "execution_count": 1278,
   "id": "4427cbba",
   "metadata": {},
   "outputs": [],
   "source": [
    "#replace values\n",
    "twitter_archive_copy['source'] = twitter_archive['source'].replace(['<a href=\"http://twitter.com/download/iphone\" rel=\"nofollow\">Twitter for iPhone</a>',\n",
    " '<a href=\"http://twitter.com\" rel=\"nofollow\">Twitter Web Client</a>',\n",
    " '<a href=\"http://vine.co\" rel=\"nofollow\">Vine - Make a Scene</a>',\n",
    " '<a href=\"https://about.twitter.com/products/tweetdeck\" rel=\"nofollow\">TweetDeck</a>'], [\"Twitter for iPhone\", \"Twitter Web Client\", \"Vine\", \"TweetDeck\"])"
   ]
  },
  {
   "cell_type": "markdown",
   "id": "cf2c7e7c",
   "metadata": {},
   "source": [
    "### Test"
   ]
  },
  {
   "cell_type": "code",
   "execution_count": 1279,
   "id": "bc29ef23",
   "metadata": {},
   "outputs": [
    {
     "data": {
      "text/plain": [
       "['Twitter for iPhone', 'Twitter Web Client', 'Vine', 'TweetDeck']"
      ]
     },
     "execution_count": 1279,
     "metadata": {},
     "output_type": "execute_result"
    }
   ],
   "source": [
    "#check that values updated\n",
    "twitter_archive_copy['source'].unique().tolist()"
   ]
  },
  {
   "cell_type": "markdown",
   "id": "30694d5e",
   "metadata": {},
   "source": [
    "### Define: Replace lower case name values\n",
    "\n",
    "#### Code:"
   ]
  },
  {
   "cell_type": "code",
   "execution_count": 1280,
   "id": "eed9369b",
   "metadata": {},
   "outputs": [],
   "source": [
    "#replacing lowercase names with NaN\n",
    "twitter_archive_copy.name=twitter_archive_copy.name.mask(twitter_archive.name.str.islower().fillna(False))"
   ]
  },
  {
   "cell_type": "code",
   "execution_count": 1281,
   "id": "34248bad",
   "metadata": {},
   "outputs": [],
   "source": [
    "#filling NaN values with None\n",
    "twitter_archive_copy[\"name\"].fillna(\"None\", inplace = True) "
   ]
  },
  {
   "cell_type": "code",
   "execution_count": 1282,
   "id": "045854d9",
   "metadata": {},
   "outputs": [],
   "source": [
    "#creating name list to test cleaning\n",
    "new_name_list = twitter_archive_copy['name'].unique().tolist()"
   ]
  },
  {
   "cell_type": "markdown",
   "id": "89cfb849",
   "metadata": {},
   "source": [
    "### Test"
   ]
  },
  {
   "cell_type": "code",
   "execution_count": 1283,
   "id": "2351ce18",
   "metadata": {},
   "outputs": [
    {
     "name": "stdout",
     "output_type": "stream",
     "text": [
      "['Abby', 'Ace', 'Acro', 'Adele', 'Aiden', 'Aja', 'Akumi', 'Al', 'Albert', 'Albus', 'Aldrick', 'Alejandro', 'Alexander', 'Alexanderson', 'Alf', 'Alfie', 'Alfy', 'Alice', 'Amber', 'Ambrose', 'Amy', 'Amélie', 'Anakin', 'Andru', 'Andy', 'Angel', 'Anna', 'Anthony', 'Antony', 'Apollo', 'Aqua', 'Archie', 'Arlen', 'Arlo', 'Arnie', 'Arnold', 'Arya', 'Ash', 'Asher', 'Ashleigh', 'Aspen', 'Astrid', 'Atlas', 'Atticus', 'Aubie', 'Augie', 'Autumn', 'Ava', 'Axel', 'Bailey', 'Baloo', 'Balto', 'Banditt', 'Banjo', 'Barclay', 'Barney', 'Baron', 'Barry', 'Batdog', 'Bauer', 'Baxter', 'Bayley', 'BeBe', 'Bear', 'Beau', 'Beckham', 'Beebop', 'Beemo', 'Bell', 'Bella', 'Belle', 'Ben', 'Benedict', 'Benji', 'Benny', 'Bentley', 'Berb', 'Berkeley', 'Bernie', 'Bert', 'Bertson', 'Betty', 'Beya', 'Biden', 'Bilbo', 'Billl', 'Billy', 'Binky', 'Birf', 'Bisquick', 'Blakely', 'Blanket', 'Blipson', 'Blitz', 'Bloo', 'Bloop', 'Blu', 'Blue', 'Bluebert', 'Bo', 'Bob', 'Bobb', 'Bobbay', 'Bobble', 'Bobby', 'Bode', 'Bodie', 'Bonaparte', 'Bones', 'Bookstore', 'Boomer', 'Boots', 'Boston', 'Bowie', 'Brad', 'Bradlay', 'Bradley', 'Brady', 'Brandi', 'Brandonald', 'Brandy', 'Brat', 'Brian', 'Brockly', 'Brody', 'Bronte', 'Brooks', 'Brownie', 'Bruce', 'Brudge', 'Bruiser', 'Bruno', 'Brutus', 'Bubba', 'Bubbles', 'Buckley', 'Buddah', 'Buddy', 'Bungalo', 'Burt', 'Butter', 'Butters', 'Cal', 'Calbert', 'Cali', 'Callie', 'Calvin', 'Canela', 'Cannon', 'Carbon', 'Carl', 'Carll', 'Carly', 'Carper', 'Carter', 'Caryl', 'Cash', 'Cassie', 'CeCe', 'Cecil', 'Cedrick', 'Cermet', 'Chadrick', 'Champ', 'Charl', 'Charles', 'Charleson', 'Charlie', 'Chase', 'Chaz', 'Cheesy', 'Chef', 'Chelsea', 'Cheryl', 'Chesney', 'Chester', 'Chesterson', 'Chet', 'Chevy', 'Chip', 'Chipson', 'Chloe', 'Chompsky', 'Christoper', 'Chubbs', 'Chuck', 'Chuckles', 'Chuq', 'Churlie', 'Cilantro', 'Clarence', 'Clark', 'Clarkus', 'Clarq', 'Claude', 'Cleopatricia', 'Clifford', 'Clybe', 'Clyde', 'Coco', 'Cody', 'Colby', 'Coleman', 'Colin', 'Combo', 'Comet', 'Cooper', 'Coops', 'Coopson', 'Cora', 'Corey', 'Covach', 'Craig', 'Crawford', 'Creg', 'Crimson', 'Crouton', 'Crumpet', 'Crystal', 'Cuddles', 'Cupcake', 'Cupid', 'Curtis', 'Daisy', 'Dakota', 'Dale', 'Dallas', 'Damon', 'Daniel', 'Danny', 'Dante', 'Darby', 'Darla', 'Darrel', 'Dash', 'Dave', 'Davey', 'Dawn', 'DayZ', 'Deacon', 'Derby', 'Derek', 'Devón', 'Dewey', 'Dex', 'Dexter', 'Dido', 'Dietrich', 'Diogi', 'Divine', 'Dixie', 'Django', 'Dobby', 'Doc', 'DonDon', 'Donny', 'Doobert', 'Dook', 'Dot', 'Dotsy', 'Doug', 'Duchess', 'Duddles', 'Dudley', 'Dug', 'Duke', 'Dunkin', 'Durg', 'Dutch', 'Dwight', 'Dylan', 'Earl', 'Eazy', 'Ebby', 'Ed', 'Edd', 'Edgar', 'Edmund', 'Eevee', 'Einstein', 'Eleanor', 'Eli', 'Ellie', 'Elliot', 'Emanuel', 'Ember', 'Emma', 'Emmie', 'Emmy', 'Enchilada', 'Erik', 'Eriq', 'Ester', 'Eugene', 'Eve', 'Evy', 'Fabio', 'Farfle', 'Ferg', 'Fido', 'Fiji', 'Fillup', 'Filup', 'Finley', 'Finn', 'Finnegus', 'Fiona', 'Fizz', 'Flash', 'Fletcher', 'Florence', 'Flurpson', 'Flávio', 'Frank', 'Frankie', 'Franklin', 'Franq', 'Fred', 'Freddery', 'Frönq', 'Furzey', 'Fwed', 'Fynn', 'Gabby', 'Gabe', 'Gary', 'General', 'Genevieve', 'Geno', 'Geoff', 'George', 'Georgie', 'Gerald', 'Gerbald', 'Gert', 'Gidget', 'Gilbert', 'Gin', 'Ginger', 'Gizmo', 'Glacier', 'Glenn', 'Godi', 'Godzilla', 'Goliath', 'Goose', 'Gordon', 'Grady', 'Grey', 'Griffin', 'Griswold', 'Grizz', 'Grizzie', 'Grizzwald', 'Gromit', 'Gunner', 'Gus', 'Gustaf', 'Gustav', 'Gòrdón', 'Hall', 'Halo', 'Hammond', 'Hamrick', 'Hank', 'Hanz', 'Happy', 'Harlso', 'Harnold', 'Harold', 'Harper', 'Harrison', 'Harry', 'Harvey', 'Hazel', 'Hector', 'Heinrich', 'Henry', 'Herald', 'Herb', 'Hercules', 'Herm', 'Hermione', 'Hero', 'Herschel', 'Hobbes', 'Holly', 'Horace', 'Howie', 'Hubertson', 'Huck', 'Humphrey', 'Hunter', 'Hurley', 'Huxley', 'Iggy', 'Ike', 'Indie', 'Iroh', 'Ito', 'Ivar', 'Izzy', 'JD', 'Jack', 'Jackie', 'Jackson', 'Jameson', 'Jamesy', 'Jangle', 'Jareld', 'Jarod', 'Jarvis', 'Jaspers', 'Jax', 'Jay', 'Jaycob', 'Jazz', 'Jazzy', 'Jeb', 'Jebberson', 'Jed', 'Jeffrey', 'Jeffri', 'Jeffrie', 'Jennifur', 'Jeph', 'Jeremy', 'Jerome', 'Jerry', 'Jersey', 'Jesse', 'Jessifer', 'Jessiga', 'Jett', 'Jim', 'Jimbo', 'Jiminus', 'Jiminy', 'Jimison', 'Jimothy', 'Jo', 'Jockson', 'Joey', 'Jomathan', 'Jonah', 'Jordy', 'Josep', 'Joshwa', 'Juckson', 'Julio', 'Julius', 'Juno', 'Kaia', 'Kaiya', 'Kallie', 'Kane', 'Kanu', 'Kara', 'Karl', 'Karll', 'Karma', 'Kathmandu', 'Katie', 'Kawhi', 'Kayla', 'Keet', 'Keith', 'Kellogg', 'Ken', 'Kendall', 'Kenneth', 'Kenny', 'Kenzie', 'Keurig', 'Kevin', 'Kevon', 'Kial', 'Kilo', 'Kingsley', 'Kirby', 'Kirk', 'Klein', 'Klevin', 'Kloey', 'Kobe', 'Koda', 'Kody', 'Koko', 'Kollin', 'Kona', 'Kota', 'Kramer', 'Kreg', 'Kreggory', 'Kulet', 'Kuyu', 'Kyle', 'Kyro', 'Lacy', 'Laela', 'Laika', 'Lambeau', 'Lance', 'Larry', 'Lassie', 'Layla', 'Leela', 'Lennon', 'Lenny', 'Lenox', 'Leo', 'Leonard', 'Leonidas', 'Levi', 'Liam', 'Lilah', 'Lili', 'Lilli', 'Lillie', 'Lilly', 'Lily', 'Lincoln', 'Linda', 'Link', 'Linus', 'Lipton', 'Livvie', 'Lizzie', 'Logan', 'Loki', 'Lola', 'Lolo', 'Longfellow', 'Loomis', 'Lorelei', 'Lorenzo', 'Lou', 'Louie', 'Louis', 'Luca', 'Lucia', 'Lucky', 'Lucy', 'Lugan', 'Lulu', 'Luna', 'Lupe', 'Luther', 'Mabel', 'Mac', 'Mack', 'Maddie', 'Maggie', 'Mairi', 'Maisey', 'Major', 'Maks', 'Malcolm', 'Malikai', 'Margo', 'Mark', 'Marlee', 'Marley', 'Marq', 'Marty', 'Marvin', 'Mary', 'Mason', 'Mattie', 'Maude', 'Mauve', 'Max', 'Maxaroni', 'Maximus', 'Maxwell', 'Maya', 'Meatball', 'Meera', 'Meyer', 'Mia', 'Michelangelope', 'Miguel', 'Mike', 'Miley', 'Milky', 'Millie', 'Milo', 'Mimosa', 'Mingus', 'Mister', 'Misty', 'Mitch', 'Mo', 'Moe', 'Mojo', 'Mollie', 'Molly', 'Mona', 'Monkey', 'Monster', 'Monty', 'Moofasa', 'Mookie', 'Moose', 'Moreton', 'Mosby', 'Murphy', 'Mutt', 'Mya', 'Nala', 'Naphaniel', 'Napolean', 'Nelly', 'Neptune', 'Newt', 'Nico', 'Nida', 'Nigel', 'Nimbus', 'Noah', 'Nollie', 'None', 'Noosh', 'Norman', 'Nugget', 'O', 'Oakley', 'Obi', 'Obie', 'Oddie', 'Odie', 'Odin', 'Olaf', 'Ole', 'Olive', 'Oliver', 'Olivia', 'Oliviér', 'Ollie', 'Opal', 'Opie', 'Oreo', 'Orion', 'Oscar', 'Oshie', 'Otis', 'Ozzie', 'Ozzy', 'Pablo', 'Paisley', 'Pancake', 'Panda', 'Patch', 'Patrick', 'Paull', 'Pavlov', 'Pawnd', 'Peaches', 'Peanut', 'Penelope', 'Penny', 'Pepper', 'Percy', 'Perry', 'Pete', 'Petrick', 'Pherb', 'Phil', 'Philbert', 'Philippe', 'Phineas', 'Phred', 'Pickles', 'Pilot', 'Pinot', 'Pip', 'Piper', 'Pippa', 'Pippin', 'Pipsy', 'Pluto', 'Poppy', 'Pubert', 'Puff', 'Pumpkin', 'Pupcasso', 'Quinn', 'Ralf', 'Ralph', 'Ralpher', 'Ralphie', 'Ralphson', 'Ralphus', 'Ralphy', 'Ralphé', 'Rambo', 'Randall', 'Raphael', 'Rascal', 'Raymond', 'Reagan', 'Reese', 'Reggie', 'Reginald', 'Remington', 'Remus', 'Remy', 'Reptar', 'Rey', 'Rhino', 'Richie', 'Ricky', 'Ridley', 'Riley', 'Rilo', 'Rinna', 'River', 'Rizzo', 'Rizzy', 'Robin', 'Rocco', 'Rocky', 'Rodman', 'Rodney', 'Rolf', 'Romeo', 'Ron', 'Ronduh', 'Ronnie', 'Rontu', 'Rooney', 'Roosevelt', 'Rorie', 'Rory', 'Roscoe', 'Rose', 'Rosie', 'Rover', 'Rubio', 'Ruby', 'Rudy', 'Rueben', 'Ruffles', 'Rufio', 'Rufus', 'Rumble', 'Rumpole', 'Rupert', 'Rusty', 'Sadie', 'Sage', 'Sailer', 'Sailor', 'Sam', 'Sammy', 'Sampson', 'Samsom', 'Samson', 'Sandra', 'Sandy', 'Sansa', 'Sarge', 'Saydee', 'Schnitzel', 'Schnozz', 'Scooter', 'Scott', 'Scout', 'Scruffers', 'Seamus', 'Sebastian', 'Sephie', 'Severus', 'Shadoe', 'Shadow', 'Shaggy', 'Shakespeare', 'Shawwn', 'Shelby', 'Shikha', 'Shiloh', 'Shnuggles', 'Shooter', 'Siba', 'Sid', 'Sierra', 'Simba', 'Skittle', 'Skittles', 'Sky', 'Skye', 'Smiley', 'Smokey', 'Snickers', 'Snicku', 'Snoop', 'Snoopy', 'Sobe', 'Socks', 'Sojourner', 'Solomon', 'Sonny', 'Sophie', 'Sora', 'Spanky', 'Spark', 'Sparky', 'Spencer', 'Sprinkles', 'Sprout', 'Staniel', 'Stanley', 'Stark', 'Stefan', 'Stella', 'Stephan', 'Stephanus', 'Steve', 'Steven', 'Stewie', 'Storkson', 'Stormy', 'Strider', 'Striker', 'Strudel', 'Stu', 'Stuart', 'Stubert', 'Sugar', 'Suki', 'Sully', 'Sundance', 'Sunny', 'Sunshine', 'Superpup', 'Swagger', 'Sweet', 'Sweets', 'Taco', 'Tango', 'Tanner', 'Tassy', 'Tater', 'Tayzie', 'Taz', 'Tebow', 'Ted', 'Tedders', 'Teddy', 'Tedrick', 'Terrance', 'Terrenth', 'Terry', 'Tess', 'Tessa', 'Theo', 'Theodore', 'Thor', 'Thumas', 'Tiger', 'Tilly', 'Timber', 'Timison', 'Timmy', 'Timofy', 'Tino', 'Titan', 'Tito', 'Tobi', 'Toby', 'Todo', 'Toffee', 'Tom', 'Tommy', 'Tonks', 'Torque', 'Tove', 'Travis', 'Traviss', 'Trevith', 'Trigger', 'Trip', 'Tripp', 'Trooper', 'Tuck', 'Tucker', 'Tuco', 'Tug', 'Tupawc', 'Tycho', 'Tyr', 'Tyrone', 'Tyrus', 'Ulysses', 'Venti', 'Vince', 'Vincent', 'Vinnie', 'Vinscent', 'Vixen', 'Wafer', 'Waffles', 'Walker', 'Wallace', 'Wally', 'Walter', 'Watson', 'Wesley', 'Wiggles', 'Willem', 'William', 'Willie', 'Willow', 'Willy', 'Wilson', 'Winifred', 'Winnie', 'Winston', 'Wishes', 'Wyatt', 'Yoda', 'Yogi', 'Yukon', 'Zara', 'Zeek', 'Zeke', 'Zeus', 'Ziva', 'Zoe', 'Zoey', 'Zooey', 'Zuzu']\n"
     ]
    }
   ],
   "source": [
    "#printing the name list to check if the lower case names have been removed and the None value updated in their place\n",
    "new_name_list.sort()\n",
    "print(new_name_list)"
   ]
  },
  {
   "cell_type": "code",
   "execution_count": 1284,
   "id": "3f781388",
   "metadata": {},
   "outputs": [
    {
     "name": "stdout",
     "output_type": "stream",
     "text": [
      "<class 'pandas.core.frame.DataFrame'>\n",
      "Int64Index: 2297 entries, 0 to 2355\n",
      "Data columns (total 9 columns):\n",
      " #   Column              Non-Null Count  Dtype \n",
      "---  ------              --------------  ----- \n",
      " 0   tweet_id            2297 non-null   int64 \n",
      " 1   timestamp           2297 non-null   object\n",
      " 2   source              2297 non-null   object\n",
      " 3   text                2297 non-null   object\n",
      " 4   expanded_urls       2297 non-null   object\n",
      " 5   rating_numerator    2297 non-null   int64 \n",
      " 6   rating_denominator  2297 non-null   int64 \n",
      " 7   name                2297 non-null   object\n",
      " 8   age                 2297 non-null   object\n",
      "dtypes: int64(3), object(6)\n",
      "memory usage: 244.0+ KB\n"
     ]
    }
   ],
   "source": [
    "twitter_archive_copy.info()"
   ]
  },
  {
   "cell_type": "code",
   "execution_count": null,
   "id": "28d1f3da",
   "metadata": {},
   "outputs": [
    {
     "data": {
      "application/vnd.jupyter.widget-view+json": {
       "model_id": "1b1749ad2fbb49259e87d6c20db5d3fa",
       "version_major": 2,
       "version_minor": 0
      },
      "text/plain": [
       "Summarize dataset:   0%|          | 0/24 [00:00<?, ?it/s]"
      ]
     },
     "metadata": {},
     "output_type": "display_data"
    },
    {
     "data": {
      "application/vnd.jupyter.widget-view+json": {
       "model_id": "052c324f0e684fea9f1cd6808a3a4dfb",
       "version_major": 2,
       "version_minor": 0
      },
      "text/plain": [
       "Generate report structure:   0%|          | 0/1 [00:00<?, ?it/s]"
      ]
     },
     "metadata": {},
     "output_type": "display_data"
    }
   ],
   "source": [
    "pp.ProfileReport(twitter_archive_copy)"
   ]
  },
  {
   "cell_type": "markdown",
   "id": "58b9acbc",
   "metadata": {},
   "source": [
    "## Cleaning the prediction dataframe\n",
    "\n",
    "There are entries that are falsly predicted as dogs, as well as predictions that are incorrectly predicted as not dogs. There are 324 entries that are false in all 3 predictions, due to the large number it would be inefficient to individually check these entries. These entries will remain in the dataframe.\n",
    "\n",
    "We will move on to renaming the columns for easier interpretation."
   ]
  },
  {
   "cell_type": "code",
   "execution_count": null,
   "id": "ee56d8b2",
   "metadata": {},
   "outputs": [],
   "source": [
    "#copy dataframe\n",
    "predictions_copy = predictions.copy()"
   ]
  },
  {
   "cell_type": "markdown",
   "id": "b765ca79",
   "metadata": {},
   "source": [
    "### Define: Rename the prediction columns for better visibility\n",
    "\n",
    "#### Code:"
   ]
  },
  {
   "cell_type": "code",
   "execution_count": null,
   "id": "49979205",
   "metadata": {},
   "outputs": [],
   "source": [
    "#renaming the columns for easier interpretation\n",
    "predictions_copy = predictions_copy.rename(columns={'p1':'prediction1', 'p1_conf':'prediction1_confidence', 'p1_dog':'prediction1_is_dog',\n",
    "                                                      'p2':'prediction2', 'p2_conf':'prediction2_confidence', 'p2_dog':'prediction2_is_dog',\n",
    "                                                      'p3':'prediction3', 'p3_conf':'prediction3_confidence', 'p3_dog':'prediction3_is_dog'})"
   ]
  },
  {
   "cell_type": "markdown",
   "id": "ebf45152",
   "metadata": {},
   "source": [
    "### Test"
   ]
  },
  {
   "cell_type": "code",
   "execution_count": null,
   "id": "f27e2093",
   "metadata": {},
   "outputs": [],
   "source": [
    "#renaming of columns is reflected in the dataframe\n",
    "predictions_copy.info()"
   ]
  },
  {
   "cell_type": "markdown",
   "id": "48903b41",
   "metadata": {},
   "source": [
    "### Define: Drop the img_num column, it is not needed and removing it will create a cleaner dataframe\n",
    "\n",
    "#### Code:"
   ]
  },
  {
   "cell_type": "code",
   "execution_count": null,
   "id": "f64cc21e",
   "metadata": {},
   "outputs": [],
   "source": [
    "predictions_copy = predictions_copy.drop(columns = 'img_num')"
   ]
  },
  {
   "cell_type": "markdown",
   "id": "360796b5",
   "metadata": {},
   "source": [
    "### Test"
   ]
  },
  {
   "cell_type": "code",
   "execution_count": null,
   "id": "a734ac80",
   "metadata": {},
   "outputs": [],
   "source": [
    "predictions_copy.info()"
   ]
  },
  {
   "cell_type": "code",
   "execution_count": null,
   "id": "e6feca45",
   "metadata": {},
   "outputs": [],
   "source": [
    "pp.ProfileReport(predictions_copy)"
   ]
  },
  {
   "cell_type": "markdown",
   "id": "806b167f",
   "metadata": {},
   "source": [
    "## Cleaning the json dataframe"
   ]
  },
  {
   "cell_type": "code",
   "execution_count": null,
   "id": "6d54f5ca",
   "metadata": {},
   "outputs": [],
   "source": [
    "#copy the dataframe\n",
    "tweet_json_copy = tweet_json.copy()"
   ]
  },
  {
   "cell_type": "markdown",
   "id": "9bf769ce",
   "metadata": {},
   "source": [
    "### Define: Remove records with zeros, which indicates missing data\n",
    "\n",
    "#### Code:"
   ]
  },
  {
   "cell_type": "code",
   "execution_count": null,
   "id": "8f56aef1",
   "metadata": {},
   "outputs": [],
   "source": [
    "# entries with 0 need to be identified\n",
    "zero_entries = tweet_json_copy[(tweet_json_copy.retweet_count == 0.000000) | (tweet_json_copy.favorite_count == 0.000000) ]\n",
    "zero_entries"
   ]
  },
  {
   "cell_type": "code",
   "execution_count": null,
   "id": "881274e2",
   "metadata": {},
   "outputs": [],
   "source": [
    "#replace zeros with NaN\n",
    "tweet_json_copy['retweet_count']=tweet_json_copy['retweet_count'].replace(0, np.nan)\n",
    "tweet_json_copy['favorite_count']=tweet_json_copy['favorite_count'].replace(0, np.nan)"
   ]
  },
  {
   "cell_type": "code",
   "execution_count": null,
   "id": "49169a15",
   "metadata": {},
   "outputs": [],
   "source": [
    "#checking number of Nan values\n",
    "tweet_json_copy.isna().sum()"
   ]
  },
  {
   "cell_type": "code",
   "execution_count": null,
   "id": "b3506dc8",
   "metadata": {},
   "outputs": [],
   "source": [
    "#drop NaN values\n",
    "tweet_json_copy = tweet_json_copy.dropna()"
   ]
  },
  {
   "cell_type": "markdown",
   "id": "5b99635e",
   "metadata": {},
   "source": [
    "### Test"
   ]
  },
  {
   "cell_type": "code",
   "execution_count": null,
   "id": "0520ec23",
   "metadata": {},
   "outputs": [],
   "source": [
    "# the min now does not include zeros and reflects the correct data\n",
    "tweet_json_copy.describe()"
   ]
  },
  {
   "cell_type": "code",
   "execution_count": null,
   "id": "1edee256",
   "metadata": {},
   "outputs": [],
   "source": [
    "#check that NaN values have been removed\n",
    "tweet_json_copy.info()"
   ]
  },
  {
   "cell_type": "code",
   "execution_count": null,
   "id": "9bbf4590",
   "metadata": {},
   "outputs": [],
   "source": [
    "pp.ProfileReport(tweet_json_copy)"
   ]
  },
  {
   "cell_type": "markdown",
   "id": "bbfefd90",
   "metadata": {},
   "source": [
    "## Tidiness - Combine Dataframes"
   ]
  },
  {
   "cell_type": "markdown",
   "id": "16b43986",
   "metadata": {},
   "source": [
    "### Define: merge all three dataframes into one, using the tweet_id\n",
    "\n",
    "#### Code:"
   ]
  },
  {
   "cell_type": "code",
   "execution_count": null,
   "id": "41b263b8",
   "metadata": {},
   "outputs": [],
   "source": [
    "#merging the first two dataframes into one\n",
    "merge1 = pd.merge(twitter_archive_copy,predictions_copy, on =[\"tweet_id\"], how ='left')"
   ]
  },
  {
   "cell_type": "code",
   "execution_count": null,
   "id": "a0466ef7",
   "metadata": {},
   "outputs": [],
   "source": [
    "#creating the master by merging in the last dataframe\n",
    "tweet_data_master = pd.merge(merge1, tweet_json_copy, on=['tweet_id'], how='left')"
   ]
  },
  {
   "cell_type": "markdown",
   "id": "1cc297bc",
   "metadata": {},
   "source": [
    "### Test"
   ]
  },
  {
   "cell_type": "code",
   "execution_count": null,
   "id": "d18bd7a8",
   "metadata": {},
   "outputs": [],
   "source": [
    "#Our master dataframe now shows all the columns from the merged dataframes\n",
    "tweet_data_master.head()"
   ]
  },
  {
   "cell_type": "markdown",
   "id": "d2d04d3b",
   "metadata": {},
   "source": [
    "### Define: Remove NaN entries for cohesiveness\n",
    "\n",
    "#### Code:"
   ]
  },
  {
   "cell_type": "code",
   "execution_count": null,
   "id": "07929fa7",
   "metadata": {},
   "outputs": [],
   "source": [
    "#dropping NaN values for plots\n",
    "tweet_data_master = tweet_data_master.dropna(axis=0, how='any', subset=['retweet_count'])\n",
    "tweet_data_master = tweet_data_master.dropna(axis=0, how='any', subset=['prediction1'])"
   ]
  },
  {
   "cell_type": "markdown",
   "id": "7e31d7a4",
   "metadata": {},
   "source": [
    "### Test"
   ]
  },
  {
   "cell_type": "code",
   "execution_count": null,
   "id": "45fecaf8",
   "metadata": {},
   "outputs": [],
   "source": [
    "#the master dataframe now shows matching values for all columns\n",
    "tweet_data_master.info()"
   ]
  },
  {
   "cell_type": "code",
   "execution_count": null,
   "id": "1fcd433c",
   "metadata": {},
   "outputs": [],
   "source": [
    "pp.ProfileReport(tweet_data_master)"
   ]
  },
  {
   "cell_type": "markdown",
   "id": "3915d66e",
   "metadata": {},
   "source": [
    "# Step 5: Analyze Data with Visuals\n",
    "<a id=\"cell6\"></a>"
   ]
  },
  {
   "cell_type": "code",
   "execution_count": null,
   "id": "c743fd6c",
   "metadata": {},
   "outputs": [],
   "source": [
    "#showing values for combined dataframe\n",
    "tweet_data_master.describe()"
   ]
  },
  {
   "cell_type": "code",
   "execution_count": null,
   "id": "0a48d487",
   "metadata": {},
   "outputs": [],
   "source": [
    "tweet_data_master['retweet_count'].max()"
   ]
  },
  {
   "cell_type": "code",
   "execution_count": null,
   "id": "513aaf23",
   "metadata": {},
   "outputs": [],
   "source": [
    "rating_breed = tweet_data_master.groupby('prediction1', as_index=True)['rating_numerator'].sum()\n",
    "rating_breed_top = rating_breed.nlargest(10)\n",
    "print(rating_breed_top)"
   ]
  },
  {
   "cell_type": "markdown",
   "id": "1dfab7cd",
   "metadata": {},
   "source": [
    "## Plot top retweets by breed prediction"
   ]
  },
  {
   "cell_type": "code",
   "execution_count": null,
   "id": "88e91224",
   "metadata": {},
   "outputs": [],
   "source": [
    "#organizing data to create plot\n",
    "max_retweet1 = tweet_data_master.groupby('prediction1', as_index=True)['retweet_count'].sum()\n",
    "max_retweet2 = tweet_data_master.groupby('prediction2', as_index=True)['retweet_count'].sum()\n",
    "max_retweet3 = tweet_data_master.groupby('prediction3', as_index=True)['retweet_count'].sum()\n",
    "breed_count1  = max_retweet1.nlargest(10)\n",
    "breed_count2  = max_retweet2.nlargest(10)\n",
    "breed_count3  = max_retweet3.nlargest(10)"
   ]
  },
  {
   "cell_type": "code",
   "execution_count": null,
   "id": "c9cd94ef",
   "metadata": {},
   "outputs": [],
   "source": [
    "breed_count1 = breed_count1.to_frame()\n",
    "breed_count2 = breed_count2.to_frame()\n",
    "breed_count3 = breed_count3.to_frame()"
   ]
  },
  {
   "cell_type": "code",
   "execution_count": null,
   "id": "75145b07",
   "metadata": {},
   "outputs": [],
   "source": [
    "plt.figure(figsize=(10, 5))\n",
    "plt.plot(breed_count1)\n",
    "plt.xticks(rotation='30')\n",
    "plt.xlabel('Top Breed Predictions 1')\n",
    "\n",
    "plt.figure(figsize=(10, 5))\n",
    "plt.plot(breed_count2)\n",
    "plt.xticks(rotation='30')\n",
    "plt.xlabel('Top Breed Predictions 2')\n",
    "\n",
    "plt.figure(figsize=(10, 5))\n",
    "plt.plot(breed_count3)\n",
    "plt.xticks(rotation='30')\n",
    "plt.xlabel('Top Breed Predictions 3')\n",
    "plt.show()"
   ]
  },
  {
   "cell_type": "markdown",
   "id": "be9471e8",
   "metadata": {},
   "source": [
    "## Plot Tweet Sources"
   ]
  },
  {
   "cell_type": "code",
   "execution_count": null,
   "id": "1428b134",
   "metadata": {},
   "outputs": [],
   "source": [
    "tweet_data_master.source.value_counts().sort_values(ascending=True).plot(kind='barh', figsize=(12,5), title='Tweet Sources');"
   ]
  },
  {
   "cell_type": "code",
   "execution_count": null,
   "id": "42658609",
   "metadata": {},
   "outputs": [],
   "source": [
    "#export data to CSV\n",
    "tweet_data_master.to_csv('twitter_archive_master.csv')"
   ]
  },
  {
   "cell_type": "code",
   "execution_count": null,
   "id": "06f12dc9",
   "metadata": {},
   "outputs": [],
   "source": []
  }
 ],
 "metadata": {
  "kernelspec": {
   "display_name": "Python 3",
   "language": "python",
   "name": "python3"
  },
  "language_info": {
   "codemirror_mode": {
    "name": "ipython",
    "version": 3
   },
   "file_extension": ".py",
   "mimetype": "text/x-python",
   "name": "python",
   "nbconvert_exporter": "python",
   "pygments_lexer": "ipython3",
   "version": "3.8.8"
  }
 },
 "nbformat": 4,
 "nbformat_minor": 5
}
