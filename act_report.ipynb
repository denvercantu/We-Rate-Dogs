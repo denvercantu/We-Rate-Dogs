{
 "cells": [
  {
   "cell_type": "markdown",
   "id": "5bb0afb3",
   "metadata": {},
   "source": [
    "# Act Report\n",
    "\n",
    "For the analysis and visualizations part of the project, I chose to highlight a few of the key indicators in the data.\n",
    "\n",
    "I included a general descriptive that provided a full highlight of the different metrics in the data. I used describe() to show the mean, min, max, std, 25%, 50% and 75% of all numerical fields.\n",
    "\n",
    "The second descriptive I included was the max value of the retweet column.\n",
    "\n",
    "The third descriptive I included was a grouping of the top 10 rating_numerator and prediction1 fields. This shows the top 10 rating_numerators grouped by the prediction1 field. This gives insight into which predictions had the highest rating_numerators. I only analyzed the first prediction field in this descriptive set, which indicated that \"Labrador Retriever\" and \"Golden Retriever\" were two of the highest rated predictions, which are also indicated in the next visual comparing the prediction fields against the top retweets.\n",
    "\n",
    "For the visuals, I first chose to compare the prediction fields (breed), against the retweet field. The visuals show all three predictions along with the 10 ten retweets for each one. These three visuals show that there is a strong indicator towards a particular two breed predictions that get more retweets than others, Labrador Retriever and Golden Retriever.\n",
    "\n",
    "For my last visual I choose to plot the source field to show which sources are more utlized than others. The plot indicated that \"Twitter for iPhone\" is the most utilized platform of all that were recorded."
   ]
  },
  {
   "cell_type": "code",
   "execution_count": null,
   "id": "142ec98e",
   "metadata": {},
   "outputs": [],
   "source": []
  }
 ],
 "metadata": {
  "kernelspec": {
   "display_name": "Python 3",
   "language": "python",
   "name": "python3"
  },
  "language_info": {
   "codemirror_mode": {
    "name": "ipython",
    "version": 3
   },
   "file_extension": ".py",
   "mimetype": "text/x-python",
   "name": "python",
   "nbconvert_exporter": "python",
   "pygments_lexer": "ipython3",
   "version": "3.8.8"
  }
 },
 "nbformat": 4,
 "nbformat_minor": 5
}
